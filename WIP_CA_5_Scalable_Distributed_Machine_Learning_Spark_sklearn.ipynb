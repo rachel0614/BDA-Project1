{
  "nbformat": 4,
  "nbformat_minor": 0,
  "metadata": {
    "accelerator": "GPU",
    "colab": {
      "name": "WIP-CA_5_Scalable_Distributed_Machine_Learning_Spark_sklearn.ipynb",
      "provenance": [],
      "collapsed_sections": [],
      "toc_visible": true,
      "include_colab_link": true
    },
    "kernelspec": {
      "display_name": "Python 3",
      "name": "python3"
    }
  },
  "cells": [
    {
      "cell_type": "markdown",
      "metadata": {
        "id": "view-in-github",
        "colab_type": "text"
      },
      "source": [
        "<a href=\"https://colab.research.google.com/github/rachel0614/BDA-Project1/blob/develop/WIP_CA_5_Scalable_Distributed_Machine_Learning_Spark_sklearn.ipynb\" target=\"_parent\"><img src=\"https://colab.research.google.com/assets/colab-badge.svg\" alt=\"Open In Colab\"/></a>"
      ]
    },
    {
      "cell_type": "markdown",
      "metadata": {
        "id": "7So9u809e1n5"
      },
      "source": [
        "*Warning*: Distribution/sharing of this notebook and other lab notebooks on the internet and other sources is strictly prohibited. You should not provide this notebook to anyone else. you should just use it for the purpose of this assessment only.\r\n",
        "\r\n",
        "You should attempt and submit your work. you can refer to sources/APIs to complete this taks. Copying from each other even a part or so is strictly prohibited and may result in serious action.\r\n"
      ]
    },
    {
      "cell_type": "markdown",
      "metadata": {
        "id": "L1Y12dPVqHv4"
      },
      "source": [
        "# Assessment 5 : Big Data Analytics using Machine Learning\n",
        "## Due Feburary 25th, 5pm (Firm)\n",
        "### Total points: 100 ( weighted over 35)\n",
        "\n",
        "This assessmet will enable you achieve essential experience of machine learning using sklearn and scalable approach to machine learning based on park ML! \n",
        "\n",
        "The focus of this assessment is to explore what makes videos popular on various platforms, e.g., Netflix and YouTube. The assessment will focus on YouTube 's data.\n",
        "\n",
        "**PLEASE NOTE** There can be multiple solutions possible for this assessment. various students will end up implementing different solutions. Therefore, there is not a single solution to fit all students."
      ]
    },
    {
      "cell_type": "markdown",
      "metadata": {
        "id": "zsMMQ1RnqoYw"
      },
      "source": [
        "### Required Libraries \n",
        "Setup the libraries using the following cells. You should select Java 8 when prompted."
      ]
    },
    {
      "cell_type": "code",
      "metadata": {
        "colab": {
          "base_uri": "https://localhost:8080/"
        },
        "id": "V5Ea650lhvf2",
        "outputId": "9d3f1ea8-61c3-47ba-a48c-f13ba97c95db"
      },
      "source": [
        "! sudo apt install openjdk-8-jdk\n",
        "! sudo update-alternatives --config java"
      ],
      "execution_count": 1,
      "outputs": [
        {
          "output_type": "stream",
          "text": [
            "Reading package lists... Done\n",
            "Building dependency tree       \n",
            "Reading state information... Done\n",
            "The following additional packages will be installed:\n",
            "  fonts-dejavu-core fonts-dejavu-extra libatk-wrapper-java\n",
            "  libatk-wrapper-java-jni libgail-common libgail18 libgtk2.0-0 libgtk2.0-bin\n",
            "  libgtk2.0-common libxxf86dga1 openjdk-8-jdk-headless openjdk-8-jre\n",
            "  openjdk-8-jre-headless x11-utils\n",
            "Suggested packages:\n",
            "  gvfs openjdk-8-demo openjdk-8-source visualvm icedtea-8-plugin libnss-mdns\n",
            "  fonts-ipafont-gothic fonts-ipafont-mincho fonts-wqy-microhei\n",
            "  fonts-wqy-zenhei fonts-indic mesa-utils\n",
            "The following NEW packages will be installed:\n",
            "  fonts-dejavu-core fonts-dejavu-extra libatk-wrapper-java\n",
            "  libatk-wrapper-java-jni libgail-common libgail18 libgtk2.0-0 libgtk2.0-bin\n",
            "  libgtk2.0-common libxxf86dga1 openjdk-8-jdk openjdk-8-jdk-headless\n",
            "  openjdk-8-jre openjdk-8-jre-headless x11-utils\n",
            "0 upgraded, 15 newly installed, 0 to remove and 11 not upgraded.\n",
            "Need to get 43.5 MB of archives.\n",
            "After this operation, 163 MB of additional disk space will be used.\n",
            "Get:1 http://archive.ubuntu.com/ubuntu bionic/main amd64 libxxf86dga1 amd64 2:1.1.4-1 [13.7 kB]\n",
            "Get:2 http://archive.ubuntu.com/ubuntu bionic/main amd64 fonts-dejavu-core all 2.37-1 [1,041 kB]\n",
            "Get:3 http://archive.ubuntu.com/ubuntu bionic/main amd64 fonts-dejavu-extra all 2.37-1 [1,953 kB]\n",
            "Get:4 http://archive.ubuntu.com/ubuntu bionic/main amd64 x11-utils amd64 7.7+3build1 [196 kB]\n",
            "Get:5 http://archive.ubuntu.com/ubuntu bionic/main amd64 libatk-wrapper-java all 0.33.3-20ubuntu0.1 [34.7 kB]\n",
            "Get:6 http://archive.ubuntu.com/ubuntu bionic/main amd64 libatk-wrapper-java-jni amd64 0.33.3-20ubuntu0.1 [28.3 kB]\n",
            "Get:7 http://archive.ubuntu.com/ubuntu bionic/main amd64 libgtk2.0-common all 2.24.32-1ubuntu1 [125 kB]\n",
            "Get:8 http://archive.ubuntu.com/ubuntu bionic/main amd64 libgtk2.0-0 amd64 2.24.32-1ubuntu1 [1,769 kB]\n",
            "Get:9 http://archive.ubuntu.com/ubuntu bionic/main amd64 libgail18 amd64 2.24.32-1ubuntu1 [14.2 kB]\n",
            "Get:10 http://archive.ubuntu.com/ubuntu bionic/main amd64 libgail-common amd64 2.24.32-1ubuntu1 [112 kB]\n",
            "Get:11 http://archive.ubuntu.com/ubuntu bionic/main amd64 libgtk2.0-bin amd64 2.24.32-1ubuntu1 [7,536 B]\n",
            "Get:12 http://archive.ubuntu.com/ubuntu bionic-updates/universe amd64 openjdk-8-jre-headless amd64 8u282-b08-0ubuntu1~18.04 [28.2 MB]\n",
            "Get:13 http://archive.ubuntu.com/ubuntu bionic-updates/universe amd64 openjdk-8-jre amd64 8u282-b08-0ubuntu1~18.04 [69.7 kB]\n",
            "Get:14 http://archive.ubuntu.com/ubuntu bionic-updates/universe amd64 openjdk-8-jdk-headless amd64 8u282-b08-0ubuntu1~18.04 [8,267 kB]\n",
            "Get:15 http://archive.ubuntu.com/ubuntu bionic-updates/universe amd64 openjdk-8-jdk amd64 8u282-b08-0ubuntu1~18.04 [1,630 kB]\n",
            "Fetched 43.5 MB in 2s (23.0 MB/s)\n",
            "debconf: unable to initialize frontend: Dialog\n",
            "debconf: (No usable dialog-like program is installed, so the dialog based frontend cannot be used. at /usr/share/perl5/Debconf/FrontEnd/Dialog.pm line 76, <> line 15.)\n",
            "debconf: falling back to frontend: Readline\n",
            "debconf: unable to initialize frontend: Readline\n",
            "debconf: (This frontend requires a controlling tty.)\n",
            "debconf: falling back to frontend: Teletype\n",
            "dpkg-preconfigure: unable to re-open stdin: \n",
            "Selecting previously unselected package libxxf86dga1:amd64.\n",
            "(Reading database ... 149414 files and directories currently installed.)\n",
            "Preparing to unpack .../00-libxxf86dga1_2%3a1.1.4-1_amd64.deb ...\n",
            "Unpacking libxxf86dga1:amd64 (2:1.1.4-1) ...\n",
            "Selecting previously unselected package fonts-dejavu-core.\n",
            "Preparing to unpack .../01-fonts-dejavu-core_2.37-1_all.deb ...\n",
            "Unpacking fonts-dejavu-core (2.37-1) ...\n",
            "Selecting previously unselected package fonts-dejavu-extra.\n",
            "Preparing to unpack .../02-fonts-dejavu-extra_2.37-1_all.deb ...\n",
            "Unpacking fonts-dejavu-extra (2.37-1) ...\n",
            "Selecting previously unselected package x11-utils.\n",
            "Preparing to unpack .../03-x11-utils_7.7+3build1_amd64.deb ...\n",
            "Unpacking x11-utils (7.7+3build1) ...\n",
            "Selecting previously unselected package libatk-wrapper-java.\n",
            "Preparing to unpack .../04-libatk-wrapper-java_0.33.3-20ubuntu0.1_all.deb ...\n",
            "Unpacking libatk-wrapper-java (0.33.3-20ubuntu0.1) ...\n",
            "Selecting previously unselected package libatk-wrapper-java-jni:amd64.\n",
            "Preparing to unpack .../05-libatk-wrapper-java-jni_0.33.3-20ubuntu0.1_amd64.deb ...\n",
            "Unpacking libatk-wrapper-java-jni:amd64 (0.33.3-20ubuntu0.1) ...\n",
            "Selecting previously unselected package libgtk2.0-common.\n",
            "Preparing to unpack .../06-libgtk2.0-common_2.24.32-1ubuntu1_all.deb ...\n",
            "Unpacking libgtk2.0-common (2.24.32-1ubuntu1) ...\n",
            "Selecting previously unselected package libgtk2.0-0:amd64.\n",
            "Preparing to unpack .../07-libgtk2.0-0_2.24.32-1ubuntu1_amd64.deb ...\n",
            "Unpacking libgtk2.0-0:amd64 (2.24.32-1ubuntu1) ...\n",
            "Selecting previously unselected package libgail18:amd64.\n",
            "Preparing to unpack .../08-libgail18_2.24.32-1ubuntu1_amd64.deb ...\n",
            "Unpacking libgail18:amd64 (2.24.32-1ubuntu1) ...\n",
            "Selecting previously unselected package libgail-common:amd64.\n",
            "Preparing to unpack .../09-libgail-common_2.24.32-1ubuntu1_amd64.deb ...\n",
            "Unpacking libgail-common:amd64 (2.24.32-1ubuntu1) ...\n",
            "Selecting previously unselected package libgtk2.0-bin.\n",
            "Preparing to unpack .../10-libgtk2.0-bin_2.24.32-1ubuntu1_amd64.deb ...\n",
            "Unpacking libgtk2.0-bin (2.24.32-1ubuntu1) ...\n",
            "Selecting previously unselected package openjdk-8-jre-headless:amd64.\n",
            "Preparing to unpack .../11-openjdk-8-jre-headless_8u282-b08-0ubuntu1~18.04_amd64.deb ...\n",
            "Unpacking openjdk-8-jre-headless:amd64 (8u282-b08-0ubuntu1~18.04) ...\n",
            "Selecting previously unselected package openjdk-8-jre:amd64.\n",
            "Preparing to unpack .../12-openjdk-8-jre_8u282-b08-0ubuntu1~18.04_amd64.deb ...\n",
            "Unpacking openjdk-8-jre:amd64 (8u282-b08-0ubuntu1~18.04) ...\n",
            "Selecting previously unselected package openjdk-8-jdk-headless:amd64.\n",
            "Preparing to unpack .../13-openjdk-8-jdk-headless_8u282-b08-0ubuntu1~18.04_amd64.deb ...\n",
            "Unpacking openjdk-8-jdk-headless:amd64 (8u282-b08-0ubuntu1~18.04) ...\n",
            "Selecting previously unselected package openjdk-8-jdk:amd64.\n",
            "Preparing to unpack .../14-openjdk-8-jdk_8u282-b08-0ubuntu1~18.04_amd64.deb ...\n",
            "Unpacking openjdk-8-jdk:amd64 (8u282-b08-0ubuntu1~18.04) ...\n",
            "Setting up libgtk2.0-common (2.24.32-1ubuntu1) ...\n",
            "Setting up fonts-dejavu-core (2.37-1) ...\n",
            "Setting up libxxf86dga1:amd64 (2:1.1.4-1) ...\n",
            "Setting up fonts-dejavu-extra (2.37-1) ...\n",
            "Setting up openjdk-8-jre-headless:amd64 (8u282-b08-0ubuntu1~18.04) ...\n",
            "update-alternatives: using /usr/lib/jvm/java-8-openjdk-amd64/jre/bin/orbd to provide /usr/bin/orbd (orbd) in auto mode\n",
            "update-alternatives: using /usr/lib/jvm/java-8-openjdk-amd64/jre/bin/servertool to provide /usr/bin/servertool (servertool) in auto mode\n",
            "update-alternatives: using /usr/lib/jvm/java-8-openjdk-amd64/jre/bin/tnameserv to provide /usr/bin/tnameserv (tnameserv) in auto mode\n",
            "Setting up libgtk2.0-0:amd64 (2.24.32-1ubuntu1) ...\n",
            "Setting up libgail18:amd64 (2.24.32-1ubuntu1) ...\n",
            "Setting up openjdk-8-jdk-headless:amd64 (8u282-b08-0ubuntu1~18.04) ...\n",
            "update-alternatives: using /usr/lib/jvm/java-8-openjdk-amd64/bin/idlj to provide /usr/bin/idlj (idlj) in auto mode\n",
            "update-alternatives: using /usr/lib/jvm/java-8-openjdk-amd64/bin/wsimport to provide /usr/bin/wsimport (wsimport) in auto mode\n",
            "update-alternatives: using /usr/lib/jvm/java-8-openjdk-amd64/bin/jsadebugd to provide /usr/bin/jsadebugd (jsadebugd) in auto mode\n",
            "update-alternatives: using /usr/lib/jvm/java-8-openjdk-amd64/bin/native2ascii to provide /usr/bin/native2ascii (native2ascii) in auto mode\n",
            "update-alternatives: using /usr/lib/jvm/java-8-openjdk-amd64/bin/javah to provide /usr/bin/javah (javah) in auto mode\n",
            "update-alternatives: using /usr/lib/jvm/java-8-openjdk-amd64/bin/hsdb to provide /usr/bin/hsdb (hsdb) in auto mode\n",
            "update-alternatives: using /usr/lib/jvm/java-8-openjdk-amd64/bin/clhsdb to provide /usr/bin/clhsdb (clhsdb) in auto mode\n",
            "update-alternatives: using /usr/lib/jvm/java-8-openjdk-amd64/bin/xjc to provide /usr/bin/xjc (xjc) in auto mode\n",
            "update-alternatives: using /usr/lib/jvm/java-8-openjdk-amd64/bin/schemagen to provide /usr/bin/schemagen (schemagen) in auto mode\n",
            "update-alternatives: using /usr/lib/jvm/java-8-openjdk-amd64/bin/extcheck to provide /usr/bin/extcheck (extcheck) in auto mode\n",
            "update-alternatives: using /usr/lib/jvm/java-8-openjdk-amd64/bin/jhat to provide /usr/bin/jhat (jhat) in auto mode\n",
            "update-alternatives: using /usr/lib/jvm/java-8-openjdk-amd64/bin/wsgen to provide /usr/bin/wsgen (wsgen) in auto mode\n",
            "Setting up x11-utils (7.7+3build1) ...\n",
            "Setting up libgail-common:amd64 (2.24.32-1ubuntu1) ...\n",
            "Setting up libatk-wrapper-java (0.33.3-20ubuntu0.1) ...\n",
            "Setting up libgtk2.0-bin (2.24.32-1ubuntu1) ...\n",
            "Setting up libatk-wrapper-java-jni:amd64 (0.33.3-20ubuntu0.1) ...\n",
            "Setting up openjdk-8-jre:amd64 (8u282-b08-0ubuntu1~18.04) ...\n",
            "update-alternatives: using /usr/lib/jvm/java-8-openjdk-amd64/jre/bin/policytool to provide /usr/bin/policytool (policytool) in auto mode\n",
            "Setting up openjdk-8-jdk:amd64 (8u282-b08-0ubuntu1~18.04) ...\n",
            "update-alternatives: using /usr/lib/jvm/java-8-openjdk-amd64/bin/appletviewer to provide /usr/bin/appletviewer (appletviewer) in auto mode\n",
            "update-alternatives: using /usr/lib/jvm/java-8-openjdk-amd64/bin/jconsole to provide /usr/bin/jconsole (jconsole) in auto mode\n",
            "Processing triggers for man-db (2.8.3-2ubuntu0.1) ...\n",
            "Processing triggers for hicolor-icon-theme (0.17-2) ...\n",
            "Processing triggers for fontconfig (2.12.6-0ubuntu2) ...\n",
            "Processing triggers for mime-support (3.60ubuntu1) ...\n",
            "Processing triggers for libc-bin (2.27-3ubuntu1.4) ...\n",
            "/sbin/ldconfig.real: /usr/local/lib/python3.7/dist-packages/ideep4py/lib/libmkldnn.so.0 is not a symbolic link\n",
            "\n",
            "There are 2 choices for the alternative java (providing /usr/bin/java).\n",
            "\n",
            "  Selection    Path                                            Priority   Status\n",
            "------------------------------------------------------------\n",
            "* 0            /usr/lib/jvm/java-11-openjdk-amd64/bin/java      1111      auto mode\n",
            "  1            /usr/lib/jvm/java-11-openjdk-amd64/bin/java      1111      manual mode\n",
            "  2            /usr/lib/jvm/java-8-openjdk-amd64/jre/bin/java   1081      manual mode\n",
            "\n",
            "Press <enter> to keep the current choice[*], or type selection number: 2\n",
            "update-alternatives: using /usr/lib/jvm/java-8-openjdk-amd64/jre/bin/java to provide /usr/bin/java (java) in manual mode\n"
          ],
          "name": "stdout"
        }
      ]
    },
    {
      "cell_type": "code",
      "metadata": {
        "colab": {
          "base_uri": "https://localhost:8080/",
          "height": 355
        },
        "id": "678WFOguE-CF",
        "outputId": "4edf0433-9ac3-4832-a340-ec307c1ab64d"
      },
      "source": [
        "!pip3 install pandas==1.0.5"
      ],
      "execution_count": 2,
      "outputs": [
        {
          "output_type": "stream",
          "text": [
            "Collecting pandas==1.0.5\n",
            "\u001b[?25l  Downloading https://files.pythonhosted.org/packages/af/f3/683bf2547a3eaeec15b39cef86f61e921b3b187f250fcd2b5c5fb4386369/pandas-1.0.5-cp37-cp37m-manylinux1_x86_64.whl (10.1MB)\n",
            "\u001b[K     |████████████████████████████████| 10.1MB 23.9MB/s \n",
            "\u001b[?25hRequirement already satisfied: numpy>=1.13.3 in /usr/local/lib/python3.7/dist-packages (from pandas==1.0.5) (1.19.5)\n",
            "Requirement already satisfied: python-dateutil>=2.6.1 in /usr/local/lib/python3.7/dist-packages (from pandas==1.0.5) (2.8.1)\n",
            "Requirement already satisfied: pytz>=2017.2 in /usr/local/lib/python3.7/dist-packages (from pandas==1.0.5) (2018.9)\n",
            "Requirement already satisfied: six>=1.5 in /usr/local/lib/python3.7/dist-packages (from python-dateutil>=2.6.1->pandas==1.0.5) (1.15.0)\n",
            "\u001b[31mERROR: google-colab 1.0.0 has requirement pandas~=1.1.0; python_version >= \"3.0\", but you'll have pandas 1.0.5 which is incompatible.\u001b[0m\n",
            "Installing collected packages: pandas\n",
            "  Found existing installation: pandas 1.1.5\n",
            "    Uninstalling pandas-1.1.5:\n",
            "      Successfully uninstalled pandas-1.1.5\n",
            "Successfully installed pandas-1.0.5\n"
          ],
          "name": "stdout"
        },
        {
          "output_type": "display_data",
          "data": {
            "application/vnd.colab-display-data+json": {
              "pip_warning": {
                "packages": [
                  "pandas"
                ]
              }
            }
          },
          "metadata": {
            "tags": []
          }
        }
      ]
    },
    {
      "cell_type": "code",
      "metadata": {
        "colab": {
          "base_uri": "https://localhost:8080/"
        },
        "id": "eAqMbSa7FA6b",
        "outputId": "b274d589-600d-4c85-d4d2-5739f946a6cc"
      },
      "source": [
        "# if restart of runtime is successful, the execution of this cell should\n",
        "# prints True\n",
        "import pandas as pd\n",
        "print(pd.__version__ == '1.0.5')"
      ],
      "execution_count": 1,
      "outputs": [
        {
          "output_type": "stream",
          "text": [
            "True\n"
          ],
          "name": "stdout"
        }
      ]
    },
    {
      "cell_type": "code",
      "metadata": {
        "id": "NodzYeBAGpnr"
      },
      "source": [
        "import numpy as np \n",
        "import json\n",
        "import matplotlib\n",
        "import matplotlib.pyplot as plt\n",
        "from matplotlib import cm\n",
        "from datetime import datetime\n",
        "import glob\n",
        "import seaborn as sns\n",
        "import re\n",
        "import os"
      ],
      "execution_count": 2,
      "outputs": []
    },
    {
      "cell_type": "code",
      "metadata": {
        "id": "jm_TRGxorYvz"
      },
      "source": [
        "from google_drive_downloader import GoogleDriveDownloader as gdd\r\n",
        "#https://drive.google.com/file/d/1BOWMkG9wmgtjpwGhiCoQHRe-ZM7MeeZQ/view?usp=sharing\r\n",
        "# Glass data from https://archive.ics.uci.edu/ml/machine-learning-databases/glass/\r\n",
        "gdd.download_file_from_google_drive(file_id='1BOWMkG9wmgtjpwGhiCoQHRe-ZM7MeeZQ',\r\n",
        "                                    dest_path='/content/youtube_data.zip')"
      ],
      "execution_count": 3,
      "outputs": []
    },
    {
      "cell_type": "code",
      "metadata": {
        "colab": {
          "base_uri": "https://localhost:8080/"
        },
        "id": "6CCHrz2KwLWV",
        "outputId": "0eccb41b-24a5-407c-fc46-02f30b8235a1"
      },
      "source": [
        "!unzip /content/youtube_data.zip"
      ],
      "execution_count": 4,
      "outputs": [
        {
          "output_type": "stream",
          "text": [
            "Archive:  /content/youtube_data.zip\n",
            "replace youtube_data/IN_category_id.json? [y]es, [n]o, [A]ll, [N]one, [r]ename: "
          ],
          "name": "stdout"
        }
      ]
    },
    {
      "cell_type": "markdown",
      "metadata": {
        "id": "1LUqDAYCa_kN"
      },
      "source": [
        "Import your dataset using the following cells for the Youtube videos"
      ]
    },
    {
      "cell_type": "markdown",
      "metadata": {
        "id": "lzax5Hp70oGW"
      },
      "source": [
        "# Section 5.1. : Machine Learning with Sklearn (45 points)"
      ]
    },
    {
      "cell_type": "markdown",
      "metadata": {
        "id": "Ecg1d6dwais8"
      },
      "source": [
        "## 5.1.1 Data loading and Preprocessing (5 pts)\n",
        "\n",
        "The dataset consists of a daily record of the top trending YouTube videos.\n",
        "\n",
        "To determine the year’s top-trending videos, YouTube uses a combination of factors including measuring users interactions, e.g., number of views, shares, comments and likes. \"Note that they’re not the most-viewed videos overall for the calendar year”. Top performers on the YouTube trending list are music videos (such as the famously viral “[Gangnam Style](https://www.youtube.com/watch?v=9bZkp7q19f0)”), celebrity and/or reality TV performances, and the random dude-with-a-camera viral videos that YouTube is well-known for.\n",
        "\n",
        "This dataset includes several months (and counting) of data on daily trending YouTube videos. Data is included for numerous countries, with up to 200 listed trending videos per day.\n",
        "\n",
        "Each region’s data is in a separate file. Data includes:\n",
        "\n",
        "*   Video Title\n",
        "*   Channel title\n",
        "*   Publish time\n",
        "*   Tags\n",
        "*   Views\n",
        "*   Likes\n",
        "*   Dislikes\n",
        "*   Description\n",
        "*   Comment count\n",
        "\n",
        "The data also includes a category\\_id field, which varies between regions. To retrieve the categories for a specific video, find it in the associated JSON. One such file is included for each of the five regions in the dataset.\n",
        "\n",
        "For more information on specific columns in the dataset refer to the column metadata.\n",
        "\n"
      ]
    },
    {
      "cell_type": "markdown",
      "metadata": {
        "id": "XCNsu176IR5x"
      },
      "source": [
        "#### 5.1.1.1: Combining Multiple CSV's. (2 pts.)\n",
        "\n",
        "There are multiple csv files in the dataset, each corresponding to a specific country. As a first step you need to read them and combine these csv files into a single dataframe. Use 'video_id' as your index.\n",
        "\n",
        "While combining them, you also need to create a column for \"country\" and fill it in the final dataframe. The country name can be extracted using the filename itself.\n",
        "\n",
        "Name your dataframe \"combined_data\"."
      ]
    },
    {
      "cell_type": "code",
      "metadata": {
        "id": "V_tuqP5Wahf_"
      },
      "source": [
        "import pathlib\n",
        "\n",
        "# Import all the csv files\n",
        "files = [i for i in glob.glob('/content/youtube_data/*.csv'.format('csv'))]\n",
        "sorted(files)\n",
        "\n",
        "# Task: Merge all dataframes to single dataframe \"combined_data\" and add a 'country' column. \n",
        "all_dataframes = list()\n",
        "for csv in files:\n",
        "  #read csv and append country column with value of the left 2 letters of the current file name\n",
        "  all_dataframes.append(pd.read_csv(csv).assign(country=pathlib.Path(csv).name[:2]))\n",
        "combined_data = pd.concat(all_dataframes)\n"
      ],
      "execution_count": 146,
      "outputs": []
    },
    {
      "cell_type": "markdown",
      "metadata": {
        "id": "PdfKNvDqILsh"
      },
      "source": [
        "#### 5.1.1.2: Map category Id's to categories (2 pts)\n",
        "\n",
        "Read the category_id.json file and map the category_id's in the dataframe to the category name.\n",
        "\n",
        "Use json.load to read in the data in the json file as a python dictionary and then map the category id given in the dataframe to category name from the json file. (Hint: the US json is likely the most comprehensive reference)\n",
        "\n",
        "\n"
      ]
    },
    {
      "cell_type": "code",
      "metadata": {
        "id": "xDyMBIoRGdi0"
      },
      "source": [
        "combined_data['category_id'] = combined_data['category_id'].astype(str)\n",
        "\n",
        "# Add code here\n",
        "#read json files, parse the id and snippet-title as the key and value of the dict to get the intersection of categroies dict\n",
        "dict_categories = {}\n",
        "files = [i for i in glob.glob('/content/youtube_data/*.json'.format('json'))]\n",
        "for f in files:\n",
        "  #file prefix is country code\n",
        "  country = pathlib.Path(f).name[:2]\n",
        "  with open(f,'r') as data:\n",
        "    json_data = json.load(data)\n",
        "    #item list\n",
        "    list_item = json_data['items']\n",
        "    #put items into dict_categories\n",
        "    for item in list_item:\n",
        "      dict_categories[item['id']] = str(item['snippet']['title'])\n",
        "#https://stackoverflow.com/questions/20250771/remap-values-in-pandas-column-with-a-dict  \n",
        "#generate category by mapping category_id from category dict to name\n",
        "combined_data.insert(4, 'category',combined_data['category_id'].map(dict_categories))"
      ],
      "execution_count": 147,
      "outputs": []
    },
    {
      "cell_type": "code",
      "metadata": {
        "colab": {
          "base_uri": "https://localhost:8080/"
        },
        "id": "VcWVNGayUsoY",
        "outputId": "fdac618b-b233-43d2-f9fa-c993cc0f9c3c"
      },
      "source": [
        "combined_data.dtypes"
      ],
      "execution_count": 41,
      "outputs": [
        {
          "output_type": "execute_result",
          "data": {
            "text/plain": [
              "video_id                  object\n",
              "trending_date             object\n",
              "title                     object\n",
              "channel_title             object\n",
              "category                  object\n",
              "category_id               object\n",
              "publish_time              object\n",
              "tags                      object\n",
              "views                      int64\n",
              "likes                      int64\n",
              "dislikes                   int64\n",
              "comment_count              int64\n",
              "thumbnail_link            object\n",
              "comments_disabled           bool\n",
              "ratings_disabled            bool\n",
              "video_error_or_removed      bool\n",
              "description               object\n",
              "country                   object\n",
              "dtype: object"
            ]
          },
          "metadata": {
            "tags": []
          },
          "execution_count": 41
        }
      ]
    },
    {
      "cell_type": "markdown",
      "metadata": {
        "id": "LEfiMpUULmT4"
      },
      "source": [
        "#### 5.1.1.3: Fix datetime format and remove rows with NA's (1 pt)\n",
        "\n",
        "The 'publish_time' and 'trending_date' features are not in a unix datetime format, so use pandas to_datetime() to convert it into the right format.\n",
        "\n",
        "After that is done remove all the rows which have NA's in them."
      ]
    },
    {
      "cell_type": "code",
      "metadata": {
        "id": "EMqgqJv5MYWG"
      },
      "source": [
        "# Add code here\n",
        "combined_data['trending_date'] = pd.to_datetime(combined_data['trending_date'],format=\"%y.%d.%m\")\n",
        "combined_data['publish_time'] = pd.to_datetime(combined_data['publish_time'])\n",
        "\n",
        "# Add your Code here to remove NA's\n",
        "combined_data = combined_data.dropna()"
      ],
      "execution_count": 148,
      "outputs": []
    },
    {
      "cell_type": "code",
      "metadata": {
        "colab": {
          "base_uri": "https://localhost:8080/"
        },
        "id": "P7B9nlL1SwgT",
        "outputId": "1ee8c4ae-fad6-476a-8ef7-527da0ec2a9e"
      },
      "source": [
        "# print\n",
        "print('validate_na',(combined_data.shape))"
      ],
      "execution_count": 149,
      "outputs": [
        {
          "output_type": "stream",
          "text": [
            "validate_na (154567, 18)\n"
          ],
          "name": "stdout"
        }
      ]
    },
    {
      "cell_type": "markdown",
      "metadata": {
        "id": "gT2l5ttZan_J"
      },
      "source": [
        "## 5.2 Exploratory Data Analysis & Feature Engineering (20pt)\n",
        "\n",
        "\n",
        "**Exploratory Data Analysis:** \n",
        "EDA aims to analyze data sets by summarizing its key characteristics assisted by visualizations. EDA communicates insights beyond formal modeling/hypothesis testing with or without statistical model.\n",
        "\n",
        "**Feature Engineering:** \n",
        "The primary object of feature engineering is to extract features using domain knowledge. It aims to extract features from raw data using various data mining approaches.\n",
        "\n",
        "These features are fed to various machine learning classifiers. These features are also called as covariates, predicators, or simply a new column in data frame."
      ]
    },
    {
      "cell_type": "markdown",
      "metadata": {
        "id": "bL0aSQcFAxxz"
      },
      "source": [
        "#### 5.2.1: Calculating Mean, standard deviation, min and max. (1 pt)\n",
        "\n",
        "In this section, we will focus to compute various satistics, i.e., mean, standard deviation, min and max for numerical features in the dataset and then store them into lists, i.e.,  [views, likes, dislikes, comment_count].\n",
        "\n",
        "means = [views_mean, likes_mean, dislikes_mean, comment_count_mean] and similarly for mins, maxs and stds."
      ]
    },
    {
      "cell_type": "code",
      "metadata": {
        "id": "Qfp2RcOd56Lx"
      },
      "source": [
        "# Add your code here\r\n",
        "maxs = combined_data[['views','likes','dislikes','comment_count']].max().tolist()\r\n",
        "mins = combined_data[['views','likes','dislikes','comment_count']].min().tolist()\r\n",
        "stds = combined_data[['views','likes','dislikes','comment_count']].std().tolist()\r\n",
        "means = combined_data[['views','likes','dislikes','comment_count']].mean().tolist()"
      ],
      "execution_count": 150,
      "outputs": []
    },
    {
      "cell_type": "code",
      "metadata": {
        "colab": {
          "base_uri": "https://localhost:8080/"
        },
        "id": "G0186aPaSzA_",
        "outputId": "4d314794-774d-4659-e8c2-107e1819f651"
      },
      "source": [
        "# print here\n",
        "#print('check_min_max_mean_std',([maxs, mins, stds, means]))\n",
        "print('check_min_max_mean_std',([ mins,maxs, means, stds]))"
      ],
      "execution_count": 151,
      "outputs": [
        {
          "output_type": "stream",
          "text": [
            "check_min_max_mean_std [[223, 0, 0, 0], [225211923, 5613827, 1643059, 1228655], [1281578.03423758, 40961.05191276275, 2056.138490104615, 4606.593742519425], [4605292.478385771, 152148.95485475354, 18258.541379661314, 23278.225620609435]]\n"
          ],
          "name": "stdout"
        }
      ]
    },
    {
      "cell_type": "markdown",
      "metadata": {
        "id": "jwMkARfAFE-U"
      },
      "source": [
        "#### 5.2.2: Rescaling the features (1 pt)\n",
        "\n",
        "From the above section, it is clear that the numerical values range is really high.  we can use rescaling to avoid numerical instability problems. We can rescale likes, views, dislikes, and comment_count using log scale (base e). Let us store rescaled features in dataframe as likes_log, views_log, dislikes_log and comment_log.\n",
        "\n",
        "NOTE- log 0 is not defined, therefore, you should add 1 to each value prior to taking the log."
      ]
    },
    {
      "cell_type": "code",
      "metadata": {
        "id": "-0wGMFGdFUBK"
      },
      "source": [
        "# Add your code here\n",
        "# np.log1p(x) equals to np.log(x + 1)\n",
        "combined_data['likes_log'] = np.log1p(combined_data['likes']) \n",
        "combined_data['views_log'] = np.log1p(combined_data['views']) \n",
        "combined_data['dislikes_log'] = np.log1p(combined_data['dislikes']) \n",
        "combined_data['comment_log'] = np.log1p(combined_data['comment_count']) "
      ],
      "execution_count": 152,
      "outputs": []
    },
    {
      "cell_type": "code",
      "metadata": {
        "colab": {
          "base_uri": "https://localhost:8080/"
        },
        "id": "ZrJSqeZaS1_0",
        "outputId": "d04e1025-8060-419f-db47-b516a7ffa642"
      },
      "source": [
        "# Print results\n",
        "print('check_feature_rescaling',([np.mean(combined_data['likes_log']),np.mean(combined_data['views_log']),np.mean(combined_data['dislikes_log']),\n",
        "                                         np.mean(combined_data['comment_log'])]))"
      ],
      "execution_count": 153,
      "outputs": [
        {
          "output_type": "stream",
          "text": [
            "check_feature_rescaling [8.571590187188589, 12.55267980501319, 5.614484952081001, 6.4245436151084885]\n"
          ],
          "name": "stdout"
        }
      ]
    },
    {
      "cell_type": "markdown",
      "metadata": {
        "id": "Kqt6-d6NGA9F"
      },
      "source": [
        "#### 5.2.3: Plotting the distribution (2 pt)\n",
        "\n",
        "Plot the distribution for the newly created log features. They should look like normal distribution curves."
      ]
    },
    {
      "cell_type": "code",
      "metadata": {
        "colab": {
          "base_uri": "https://localhost:8080/",
          "height": 390
        },
        "id": "gM-HSdnGE5Cf",
        "outputId": "6bd01767-09d8-4a91-f628-c327be9e9e95"
      },
      "source": [
        "# Add your code here for plotting the distribution\n",
        "hist = combined_data[['likes_log','views_log','dislikes_log','comment_log']].\\\n",
        "  hist(alpha=0.75,bins=35,figsize=(12,6))"
      ],
      "execution_count": 154,
      "outputs": [
        {
          "output_type": "display_data",
          "data": {
            "image/png": "[encoded data removed]",
            "text/plain": [
              "<Figure size 864x432 with 4 Axes>"
            ]
          },
          "metadata": {
            "tags": [],
            "needs_background": "light"
          }
        }
      ]
    },
    {
      "cell_type": "markdown",
      "metadata": {
        "id": "AuCVICPLBV1l"
      },
      "source": [
        "#### 5.2.4: Comparing views, likes, dislikes against categories (3 pt)\n",
        "\n",
        "Let us gain isights into data using various catergories, views, likes and dislikes.\n",
        "\n",
        "Draw three plots for the following:\n",
        "\n",
        "1.) How many videos are there for each category?\n",
        "\n",
        "2.) What is the distribution of views against categories? (Use boxplot and views on log scale)\n",
        "\n",
        "3.) What is the distribution of dislikes against categories? (Use boxplot and dislikes on log scale)\n",
        "\n",
        "For extra credit:\n",
        "You can try to gain more insights into the dataset by drawing interesting plots. Some ideas include:\n",
        "\n",
        "* How long does a video trend in a country? \n",
        "* What are some videos which got popular because they were disliked? \n",
        "\n",
        "Think of such interesting things and add here. We will award points based on creativity of the insights that you get."
      ]
    },
    {
      "cell_type": "code",
      "metadata": {
        "colab": {
          "base_uri": "https://localhost:8080/",
          "height": 980
        },
        "id": "Vl_bgpXbB6kt",
        "outputId": "8f7b9f3c-690d-406a-8f88-c144868d201d"
      },
      "source": [
        "# Your code goes here\n",
        "\n",
        "# Plots will be manually graded\n",
        "#1 How many videos are there for each category\n",
        "# group by and sort by count descending, rename the column, and plot\n",
        "df_chart1 = combined_data[['category','video_id']].groupby(['category']).\\\n",
        "  count().reset_index().\\\n",
        "  sort_values(by=['video_id'],ascending=False).\\\n",
        "  rename(columns={'video_id':'video count'}).\\\n",
        "  plot(kind='bar',x='category', grid=True, \\\n",
        "       title= 'How many videos are there for each category',figsize=(14,6), rot=20);\n",
        "plt.xlabel(\"\")\n",
        "#np.warnings.filterwarnings('ignore', category=np.VisibleDeprecationWarning) \n",
        "#layout\n",
        "#show the other two boxplot by subplot to share the same x-axis\n",
        "fig, (ax1,ax2) = plt.subplots(2, 1,figsize=(14, 6) ,sharex=True, sharey=True)\n",
        "ax1.set_title('the distribution of views against categories')\n",
        "ax2.set_title('the distribution of dislikes against categories') \n",
        "\n",
        "#2What is the distribution of views against categories? (Use boxplot and views on log scale)\n",
        "combined_data[['category','views_log']].boxplot(column=['views_log'],\\\n",
        "                                                      ax = ax1,\\\n",
        "                                                      by=['category'], rot=65, fontsize=12)\n",
        "#3What is the distribution of dislikes against categories? (Use boxplot and dislikes on log scale)\n",
        "combined_data[['category','dislikes_log']].boxplot(column=['dislikes_log'], \\\n",
        "                                                   ax = ax2,\\\n",
        "                                                   by=['category'], rot=45, fontsize=12)\n",
        "#other detail settings\n",
        "fig.suptitle(\"\")\n",
        "ax1.xaxis.label.set_visible(False)\n",
        "ax2.xaxis.label.set_visible(False)\n",
        "ax2.label_outer()"
      ],
      "execution_count": 155,
      "outputs": [
        {
          "output_type": "stream",
          "text": [
            "/usr/local/lib/python3.7/dist-packages/numpy/core/_asarray.py:83: VisibleDeprecationWarning: Creating an ndarray from ragged nested sequences (which is a list-or-tuple of lists-or-tuples-or ndarrays with different lengths or shapes) is deprecated. If you meant to do this, you must specify 'dtype=object' when creating the ndarray\n",
            "  return array(a, dtype, copy=False, order=order)\n",
            "/usr/local/lib/python3.7/dist-packages/numpy/core/_asarray.py:83: VisibleDeprecationWarning: Creating an ndarray from ragged nested sequences (which is a list-or-tuple of lists-or-tuples-or ndarrays with different lengths or shapes) is deprecated. If you meant to do this, you must specify 'dtype=object' when creating the ndarray\n",
            "  return array(a, dtype, copy=False, order=order)\n"
          ],
          "name": "stderr"
        },
        {
          "output_type": "display_data",
          "data": {
            "image/png": "[encoded data removed]",
            "text/plain": [
              "<Figure size 1008x432 with 1 Axes>"
            ]
          },
          "metadata": {
            "tags": [],
            "needs_background": "light"
          }
        },
        {
          "output_type": "display_data",
          "data": {
            "image/png": "[encoded data removed]",
            "text/plain": [
              "<Figure size 1008x432 with 2 Axes>"
            ]
          },
          "metadata": {
            "tags": [],
            "needs_background": "light"
          }
        }
      ]
    },
    {
      "cell_type": "markdown",
      "metadata": {
        "id": "a9l7UZPoGBcB"
      },
      "source": [
        "#### 5.2.5: Feature Engineering (8 pts)\n"
      ]
    },
    {
      "cell_type": "markdown",
      "metadata": {
        "id": "bUSsAlnaI4Ep"
      },
      "source": [
        "\n",
        "##### a. Processing tags (1 pt)\n",
        "\n",
        "The feature tags in the dataset has a delimiter, use that delimiter to count the number of tags, create a feature called num_tags and add that to the dataset."
      ]
    },
    {
      "cell_type": "code",
      "metadata": {
        "id": "4L_6WcapHPDl"
      },
      "source": [
        "# Add your code here\n",
        "combined_data[\"num_tags\"] = combined_data[\"tags\"].map(lambda x: len(x.split('|'))) #tags"
      ],
      "execution_count": 156,
      "outputs": []
    },
    {
      "cell_type": "markdown",
      "metadata": {
        "id": "8bnJqokpI1Mj"
      },
      "source": [
        "##### b. Processing description and title (2 pts.)\n",
        "\n",
        "Calculate the length of description and title and add them as features to the dataset"
      ]
    },
    {
      "cell_type": "code",
      "metadata": {
        "id": "NJyWb54zHes2"
      },
      "source": [
        "# Add your code here\n",
        "combined_data[\"desc_len\"] = combined_data[\"description\"].map(lambda x: len(x)) #desc_len"
      ],
      "execution_count": 157,
      "outputs": []
    },
    {
      "cell_type": "code",
      "metadata": {
        "id": "ZPMnQhbJHgx0"
      },
      "source": [
        "# Add your code here\n",
        "combined_data[\"len_title\"] = combined_data[\"title\"].map(lambda x: len(x)) #title_len"
      ],
      "execution_count": 158,
      "outputs": []
    },
    {
      "cell_type": "code",
      "metadata": {
        "id": "ksE7fNPQS_qr",
        "colab": {
          "base_uri": "https://localhost:8080/"
        },
        "outputId": "0567e2b0-bd54-4edf-c992-429022b9347c"
      },
      "source": [
        "# Print cell\n",
        "print('check_tags_title_description',([combined_data['num_tags'].describe(),combined_data['desc_len'].describe(),combined_data['len_title'].describe()]))"
      ],
      "execution_count": 159,
      "outputs": [
        {
          "output_type": "stream",
          "text": [
            "check_tags_title_description [count    154567.000000\n",
            "mean         18.629002\n",
            "std          11.856148\n",
            "min           1.000000\n",
            "25%           9.000000\n",
            "50%          17.000000\n",
            "75%          26.000000\n",
            "max         124.000000\n",
            "Name: num_tags, dtype: float64, count    154567.000000\n",
            "mean        959.949426\n",
            "std         857.504028\n",
            "min           1.000000\n",
            "25%         363.000000\n",
            "50%         717.000000\n",
            "75%        1288.000000\n",
            "max        5260.000000\n",
            "Name: desc_len, dtype: float64, count    154567.000000\n",
            "mean         56.408541\n",
            "std          22.976198\n",
            "min           2.000000\n",
            "25%          38.000000\n",
            "50%          54.000000\n",
            "75%          74.000000\n",
            "max         100.000000\n",
            "Name: len_title, dtype: float64]\n"
          ],
          "name": "stdout"
        }
      ]
    },
    {
      "cell_type": "markdown",
      "metadata": {
        "id": "aOaB6ZbCJTBv"
      },
      "source": [
        "##### c. Processing publish_time. (4 pts.)\n",
        "\n",
        "\n",
        "Split 'publish_time' feature into three parts time, date, and weekday, where time will contain the time component of the original feature and date and weekday will store the corresponding date and weekday number respectively. Start with 1 for Monday and end with 7 for Sunday."
      ]
    },
    {
      "cell_type": "code",
      "metadata": {
        "id": "ZVJTEJRFHrI5"
      },
      "source": [
        "import random\n",
        "# Add your code here\n",
        "#cast from str to date\n",
        "combined_data['publish_date'] = pd.to_datetime(combined_data['publish_time']).dt.date\n",
        "#day on which video was published\n",
        "combined_data['publish_weekday']=combined_data['publish_time'].dt.dayofweek+1 #+ 1 as it start from 0 \n",
        "#execute at last\n",
        "combined_data['publish_time'] = pd.to_datetime(combined_data['publish_time']).dt.time\n",
        "\n",
        "random_index = random.randint(0,combined_data.shape[0]-1)"
      ],
      "execution_count": 160,
      "outputs": []
    },
    {
      "cell_type": "code",
      "metadata": {
        "colab": {
          "base_uri": "https://localhost:8080/"
        },
        "id": "Ud5dPVljTDoQ",
        "outputId": "10269b5c-86ff-4e6a-ea3d-00b1cbe186d1"
      },
      "source": [
        "# Print cell\n",
        "print('check_date_time_processing',([combined_data['publish_time'].iloc[random_index],combined_data['publish_date'].iloc[random_index],sorted(list(combined_data[\"publish_weekday\"].value_counts()))]))"
      ],
      "execution_count": 161,
      "outputs": [
        {
          "output_type": "stream",
          "text": [
            "check_date_time_processing [datetime.time(4, 30), datetime.date(2018, 5, 31), [18641, 18931, 22146, 22501, 22523, 23573, 26252]]\n"
          ],
          "name": "stdout"
        }
      ]
    },
    {
      "cell_type": "markdown",
      "metadata": {
        "id": "mx1JPowWKKE7"
      },
      "source": [
        "##### d. Number of videos per weekday (1 pt)\n",
        "\n",
        "Calculate the number of videos published per day of the week. Which day of the week do people publish most videos? Make a visualization demonstrating the result."
      ]
    },
    {
      "cell_type": "code",
      "metadata": {
        "colab": {
          "base_uri": "https://localhost:8080/",
          "height": 284
        },
        "id": "IYNXbH9AKhzy",
        "outputId": "f1c8992b-5854-48ba-e0c2-50cdb088bba9"
      },
      "source": [
        "# Add your code for plot here\n",
        "# Plots will be manually graded\n",
        "#combined_data.groupby('publish_weekday').size().plot.pie(figsize=(4,4))\n",
        "ax = combined_data[['publish_weekday']].\\\n",
        "  groupby('publish_weekday')['publish_weekday'].count().\\\n",
        "  plot(kind='bar', figsize=(12,4), title=\"Number of videos per week\" ,rot=0, fontsize=12)\n",
        "ax.set_alpha(0.8)\n",
        "ax.set_ylabel(\"number of videos\", fontsize=15);\n",
        "ax.set_xticklabels(['Monday', 'Tuesday', 'Wednesday', 'Thursday', 'Friday', 'Saturday', 'Sunday'])\n",
        "ax.set_xlabel(\"\");\n",
        "\n",
        "plt.show()"
      ],
      "execution_count": 162,
      "outputs": [
        {
          "output_type": "display_data",
          "data": {
            "image/png": "[encoded data removed]",
            "text/plain": [
              "<Figure size 864x288 with 1 Axes>"
            ]
          },
          "metadata": {
            "tags": [],
            "needs_background": "light"
          }
        }
      ]
    },
    {
      "cell_type": "markdown",
      "metadata": {
        "id": "qd7dG7GTKrVQ"
      },
      "source": [
        "#### 5.2.6: Dropping irrelevant non numeric columns (1 pt.)\n",
        "\n",
        "Drop all the columns that are non-numeric as we have processed them and stored the information captured in them in the dataset as numbers. \n",
        "\n",
        "Note that a few key columns are non-numeric but should be kept in the dataframe:\n",
        "\n",
        "comments_disabled, ratings_disabled, video_error_or_removed, country\n",
        "\n",
        "Also drop original views, like, comments and dislikes as you have processed them as logs and stored them as separate feature. "
      ]
    },
    {
      "cell_type": "code",
      "metadata": {
        "id": "i6PsYGIeQq2o"
      },
      "source": [
        "#just in case ...backup\r\n",
        "combined_data_backup = combined_data.copy()"
      ],
      "execution_count": 163,
      "outputs": []
    },
    {
      "cell_type": "code",
      "metadata": {
        "id": "lfIZQ7jSHr1M"
      },
      "source": [
        "# Add your code here\r\n",
        "#based on the above description, construst 2 list for removing from numeric and non-numeric columns.\r\n",
        "#non numeric columns need to drop \r\n",
        "unused_non_numeric_list = list(set(combined_data.select_dtypes(exclude='number').columns.tolist()) - \\\r\n",
        "  set(['comments_disabled','ratings_disabled','video_error_or_removed','country','category_id'])) # is str but should be kept here ？\r\n",
        "#numeric columns need to drop\r\n",
        "unused_numeric_list = ['views', 'likes', 'dislikes', 'comment_count'] \r\n",
        "#print(drop_non_numeric_set + drop_numeric_set)\r\n",
        "combined_data.drop(unused_non_numeric_list + unused_numeric_list, axis=1, inplace=True)"
      ],
      "execution_count": 164,
      "outputs": []
    },
    {
      "cell_type": "markdown",
      "metadata": {
        "id": "_HtmJiKYLlxx"
      },
      "source": [
        "#### 5.2.7: Convert categorical features in the dataset into one hot vectors. (3 pts)\n",
        "\n",
        "There are three categorical features remaining in the dataset, identify them and convert them into one hot vectors. Be sure that when you one hot encode, the original column is replaced."
      ]
    },
    {
      "cell_type": "code",
      "metadata": {
        "id": "63tJVBE0Kkju"
      },
      "source": [
        "from sklearn.compose import ColumnTransformer\n",
        "from sklearn.preprocessing import OneHotEncoder\n",
        "\n",
        "combined_data.publish_weekday = combined_data.publish_weekday.astype('category')\n",
        "combined_data.country = combined_data.country.astype('category')\n",
        "#the third categorical column\n",
        "combined_data.category_id = combined_data.country.astype('category')\n",
        "\n",
        "# Hint: Use pd.get_dummies()range. \n",
        "#get dummies of categorical columns, concat to original dataframe with categorical columns dropped\n",
        "categorical_list = ['publish_weekday','country','category_id']\n",
        "combined_data = pd.concat(\\\n",
        "    [combined_data.drop(categorical_list, axis=1), \n",
        "     pd.get_dummies(combined_data[categorical_list])], axis=1 )\n"
      ],
      "execution_count": 166,
      "outputs": []
    },
    {
      "cell_type": "code",
      "metadata": {
        "colab": {
          "base_uri": "https://localhost:8080/"
        },
        "id": "xoC5xvGGPw-X",
        "outputId": "cf8a323b-9f9d-4445-c5ac-17b4022a6931"
      },
      "source": [
        "# Print cell.\n",
        "print('check_final_df',(combined_data.shape))"
      ],
      "execution_count": 167,
      "outputs": [
        {
          "output_type": "stream",
          "text": [
            "check_final_df (154567, 25)\n"
          ],
          "name": "stdout"
        }
      ]
    },
    {
      "cell_type": "markdown",
      "metadata": {
        "id": "kAsgbsEn6lzv"
      },
      "source": [
        "Let's write out the modified data we created to a file so that we can reuse it in Section 2."
      ]
    },
    {
      "cell_type": "code",
      "metadata": {
        "id": "-t8fKXq36k6P"
      },
      "source": [
        "combined_data_sec_2 = combined_data.copy()\n",
        "combined_data_sec_2.rename(columns = {'views_log':'label'}, inplace = True) \n",
        "combined_data_sec_2.to_csv('combined_data.csv')"
      ],
      "execution_count": 168,
      "outputs": []
    },
    {
      "cell_type": "markdown",
      "metadata": {
        "id": "FIcXjRtDMlFt"
      },
      "source": [
        "#### 5.2.8: Split into x and y (1 pt)\n",
        "\n",
        "Split the data into features and label, in this case the features are anything but views_log and the label is views_log."
      ]
    },
    {
      "cell_type": "code",
      "metadata": {
        "id": "3nSwRvMSSFa3"
      },
      "source": [
        "# Add your code here\n",
        "label = combined_data[['views_log']]\n",
        "features = combined_data.drop(['views_log'], axis=1)"
      ],
      "execution_count": 62,
      "outputs": []
    },
    {
      "cell_type": "code",
      "metadata": {
        "colab": {
          "base_uri": "https://localhost:8080/"
        },
        "id": "r6opJ4LOPygd",
        "outputId": "e50acd8f-0e9a-451c-f0af-cda00a271169"
      },
      "source": [
        "# print cell\n",
        "print('check_x_y_split',([features.shape, label.describe()]))"
      ],
      "execution_count": 63,
      "outputs": [
        {
          "output_type": "stream",
          "text": [
            "check_x_y_split [(154567, 24),            views_log\n",
            "count  154567.000000\n",
            "mean       12.552680\n",
            "std         1.816821\n",
            "min         5.411646\n",
            "25%        11.469496\n",
            "50%        12.655328\n",
            "75%        13.761413\n",
            "max        19.232552]\n"
          ],
          "name": "stdout"
        }
      ]
    },
    {
      "cell_type": "markdown",
      "metadata": {
        "id": "a9rwVcftQJwu"
      },
      "source": [
        "## 5.3 : Machine Learning using sklearn (15 pts)\n",
        "\n",
        "Scikit-learn (formerly scikits.learn and also known as sklearn) is a free software machine learning library for the Python programming language. It features various classification, regression and clustering algorithms including support vector machines, random forests, gradient boosting, k-means and DBSCAN, and is designed to interoperate with the Python numerical and scientific libraries NumPy and SciPy.\n",
        "\n",
        "You can find the documentation [here](https://scikit-learn.org/stable/modules/classes.html)\n",
        "\n",
        "Now we will train some machine learning models using sklearn to predict views, rather than predicting views directly we will predict views_log to avoid numerical instability issues"
      ]
    },
    {
      "cell_type": "markdown",
      "metadata": {
        "id": "5955JflOaxtP"
      },
      "source": [
        "### 5.3.1 : Split data into train and test (1 pt)\n",
        "\n",
        "Use sklearn's train_test_split library and split data into train and test sets, the split should be 80-20 meaning 80% for training and rest for testing.\n"
      ]
    },
    {
      "cell_type": "code",
      "metadata": {
        "id": "1b5bKkQkR9lT"
      },
      "source": [
        "from sklearn.model_selection import train_test_split\n",
        "# Add your code here\n",
        "x_train, x_test, y_train, y_test = train_test_split(\\\n",
        "  features, label, test_size=0.20, random_state=42)"
      ],
      "execution_count": 64,
      "outputs": []
    },
    {
      "cell_type": "code",
      "metadata": {
        "colab": {
          "base_uri": "https://localhost:8080/"
        },
        "id": "azYR-gZ1QKwK",
        "outputId": "81598296-51e2-49c3-e423-8e4da31110fd"
      },
      "source": [
        "# print cell.\n",
        "print('check_data_split',[x_train.shape,x_test.shape,y_train.shape,y_test.shape])"
      ],
      "execution_count": 65,
      "outputs": [
        {
          "output_type": "stream",
          "text": [
            "check_data_split [(123653, 24), (30914, 24), (123653, 1), (30914, 1)]\n"
          ],
          "name": "stdout"
        }
      ]
    },
    {
      "cell_type": "markdown",
      "metadata": {
        "id": "dbfiYK_8RGKI"
      },
      "source": [
        "### 5.3.2: Train Machine Learning Models."
      ]
    },
    {
      "cell_type": "markdown",
      "metadata": {
        "id": "7EPYfVVMRMDd"
      },
      "source": [
        "#### 5.3.2.1 Linear Regression (3 pts)\n",
        "\n",
        "In this step we will train a linear regression model using sklearn. Train using the training data and then make predictions of test, report the mean squared error obtained on both train and test sets."
      ]
    },
    {
      "cell_type": "code",
      "metadata": {
        "id": "A6wS3Rc_TZGT"
      },
      "source": [
        "from sklearn.linear_model import LinearRegression\n",
        "from sklearn.metrics import mean_squared_error\n",
        "# Add your code here\n",
        "#create linearregression model\n",
        "lr = LinearRegression()\n",
        "#train model\n",
        "lr.fit(x_train, y_train)\n",
        "#predict\n",
        "y_pred = lr.predict(x_test)"
      ],
      "execution_count": 66,
      "outputs": []
    },
    {
      "cell_type": "code",
      "metadata": {
        "colab": {
          "base_uri": "https://localhost:8080/"
        },
        "id": "YmSfKICYQLuh",
        "outputId": "cb956691-6897-4663-8e88-66853b64b593"
      },
      "source": [
        "print('check_lr', (np.sqrt(mean_squared_error(y_test, y_pred))))\r\n",
        "#report the mean squared error obtained on both train and test sets\r\n",
        "print('train MSE', mean_squared_error(y_train, lr.predict(x_train)))\r\n",
        "print('test MSE', mean_squared_error(y_test, y_pred))\r\n"
      ],
      "execution_count": 67,
      "outputs": [
        {
          "output_type": "stream",
          "text": [
            "check_lr 0.6930612690580616\n",
            "train MSE 0.47457947386471044\n",
            "test MSE 0.48033392266837094\n"
          ],
          "name": "stdout"
        }
      ]
    },
    {
      "cell_type": "markdown",
      "metadata": {
        "id": "jpu9aiyYbAUS"
      },
      "source": [
        "#### 5.3.2.2  Dimensionality reduction with PCA (6 pts)\n",
        "\n"
      ]
    },
    {
      "cell_type": "markdown",
      "metadata": {
        "id": "aTqcy4x-TXv9"
      },
      "source": [
        "##### Step 1: Fitting PCA and explained_variance_ratiio\n",
        "Use Principal component analysis to reduce number of dimensions of the dataset, as a first step fit a pca model on your train set and then plot the explained_variance_ratio against the number of components to decide the number of components you should keep. (3 pts)"
      ]
    },
    {
      "cell_type": "code",
      "metadata": {
        "colab": {
          "base_uri": "https://localhost:8080/"
        },
        "id": "2rghpqrIsQhh",
        "outputId": "facc4cb4-31df-4113-9cae-6743ab52e3e4"
      },
      "source": [
        "#https://scikit-plot.readthedocs.io/en/stable/decomposition.html\r\n",
        "#The scikitplot.decomposition module includes plots built specifically for \r\n",
        "#scikit-learn estimators that are used for dimensionality reduction\r\n",
        "!pip install scikit-plot"
      ],
      "execution_count": 68,
      "outputs": [
        {
          "output_type": "stream",
          "text": [
            "Requirement already satisfied: scikit-plot in /usr/local/lib/python3.7/dist-packages (0.3.7)\n",
            "Requirement already satisfied: scipy>=0.9 in /usr/local/lib/python3.7/dist-packages (from scikit-plot) (1.4.1)\n",
            "Requirement already satisfied: scikit-learn>=0.18 in /usr/local/lib/python3.7/dist-packages (from scikit-plot) (0.22.2.post1)\n",
            "Requirement already satisfied: joblib>=0.10 in /usr/local/lib/python3.7/dist-packages (from scikit-plot) (1.0.1)\n",
            "Requirement already satisfied: matplotlib>=1.4.0 in /usr/local/lib/python3.7/dist-packages (from scikit-plot) (3.2.2)\n",
            "Requirement already satisfied: numpy>=1.13.3 in /usr/local/lib/python3.7/dist-packages (from scipy>=0.9->scikit-plot) (1.19.5)\n",
            "Requirement already satisfied: cycler>=0.10 in /usr/local/lib/python3.7/dist-packages (from matplotlib>=1.4.0->scikit-plot) (0.10.0)\n",
            "Requirement already satisfied: kiwisolver>=1.0.1 in /usr/local/lib/python3.7/dist-packages (from matplotlib>=1.4.0->scikit-plot) (1.3.1)\n",
            "Requirement already satisfied: python-dateutil>=2.1 in /usr/local/lib/python3.7/dist-packages (from matplotlib>=1.4.0->scikit-plot) (2.8.1)\n",
            "Requirement already satisfied: pyparsing!=2.0.4,!=2.1.2,!=2.1.6,>=2.0.1 in /usr/local/lib/python3.7/dist-packages (from matplotlib>=1.4.0->scikit-plot) (2.4.7)\n",
            "Requirement already satisfied: six in /usr/local/lib/python3.7/dist-packages (from cycler>=0.10->matplotlib>=1.4.0->scikit-plot) (1.15.0)\n"
          ],
          "name": "stdout"
        }
      ]
    },
    {
      "cell_type": "code",
      "metadata": {
        "colab": {
          "base_uri": "https://localhost:8080/",
          "height": 295
        },
        "id": "96aYT7coNLQR",
        "outputId": "c8d24fb2-ba59-41ab-de40-0cbf3476f22f"
      },
      "source": [
        "import numpy as np\r\n",
        "from sklearn.preprocessing import StandardScaler\r\n",
        "from sklearn.decomposition import PCA\r\n",
        "# Add your code here\r\n",
        "scaler = StandardScaler()\r\n",
        "#standardize \r\n",
        "x_train_std = scaler.fit_transform(x_train)\r\n",
        "x_test_std = scaler.fit_transform(x_test)\r\n",
        "#plot \r\n",
        "import scikitplot as skplt\r\n",
        "#PCA(0.95)\r\n",
        "pca = PCA()\r\n",
        "pca.fit(x_train_std) \r\n",
        "#plot the explained_variance_ratio against the number of components with target variance 0.95\r\n",
        "ax = skplt.decomposition.plot_pca_component_variance(pca, \\\r\n",
        "                         target_explained_variance=0.95)\r\n",
        "plt.xticks(range(1,20))\r\n",
        "plt.show()"
      ],
      "execution_count": 69,
      "outputs": [
        {
          "output_type": "display_data",
          "data": {
            "image/png": "[encoded data removed]",
            "text/plain": [
              "<Figure size 432x288 with 1 Axes>"
            ]
          },
          "metadata": {
            "tags": [],
            "needs_background": "light"
          }
        }
      ]
    },
    {
      "cell_type": "markdown",
      "metadata": {
        "id": "jPbEQwiRR2Ta"
      },
      "source": [
        "##### Step 2: Deciding number of components to keep\n",
        "Use the plot to decide the number of components to keep, choose a number that explains atleast 95% of variance in the dataset. Then fit and transform your pca on training set using the number of components you decided. (1 pts)\n",
        "\n",
        "**Remember that your pca should be trained on the training set (and transformed here) but only transformed on the test set.**"
      ]
    },
    {
      "cell_type": "code",
      "metadata": {
        "colab": {
          "base_uri": "https://localhost:8080/"
        },
        "id": "5OfN7anNQNFy",
        "outputId": "1748ce9b-f295-4517-e0be-02c6d5615b76"
      },
      "source": [
        "# Add your code here\r\n",
        "# the skplt.decomposition.plot_pca_component_variance in previous cell \r\n",
        "# has found the least number that explained atleast 95% variance, we can get the best value from the plot in previous\r\n",
        "pca = PCA(n_components=15)\r\n",
        "#optimized dataset set by PCA\r\n",
        "x_train_pca = pca.fit_transform(x_train_std) #fit and transform the training set\r\n",
        "x_test_pca  = pca.transform(x_test_std) #only transform the test set\r\n",
        "#re-train the lineargression model and predict\r\n",
        "lr.fit(x_train_pca, y_train)\r\n",
        "y_pred = lr.predict(x_test_pca)\r\n",
        "#assign pca to x_train\r\n",
        "x_train = x_train_pca\r\n",
        "x_test = x_test_pca\r\n",
        "#!!!!!!!!!!!!!!!!!!!!!!!!!\r\n",
        "print('check_lr', (np.sqrt(mean_squared_error(y_test, y_pred))))"
      ],
      "execution_count": 70,
      "outputs": [
        {
          "output_type": "stream",
          "text": [
            "check_lr 0.8087208511787096\n"
          ],
          "name": "stdout"
        }
      ]
    },
    {
      "cell_type": "code",
      "metadata": {
        "colab": {
          "base_uri": "https://localhost:8080/"
        },
        "id": "Na-2WX_yjqlh",
        "outputId": "91334145-8789-4ee9-9323-9e7c1be3c5c2"
      },
      "source": [
        "print('RMSE',mean_squared_error(y_test, y_pred, squared=False))"
      ],
      "execution_count": 71,
      "outputs": [
        {
          "output_type": "stream",
          "text": [
            "RMSE 0.8087208511787096\n"
          ],
          "name": "stdout"
        }
      ]
    },
    {
      "cell_type": "code",
      "metadata": {
        "colab": {
          "base_uri": "https://localhost:8080/"
        },
        "id": "lPiFyPW2XmPr",
        "outputId": "a900344e-27bb-4af6-e559-51005df6fdeb"
      },
      "source": [
        "# Print cell.\n",
        "print('check_pca', (x_train[:50,:]))"
      ],
      "execution_count": 73,
      "outputs": [
        {
          "output_type": "stream",
          "text": [
            "check_pca [[-6.17339346e-01  2.71982005e+00 -5.16458317e-01 -1.20618266e+00\n",
            "  -1.21672546e+00 -2.26743510e-01 -1.67061861e+00 -1.33120428e+00\n",
            "  -1.21895616e+00 -1.45731573e-01 -5.95984021e-01  9.40520190e-01\n",
            "  -2.67150347e-02  1.00047903e+00  2.07659298e+00]\n",
            " [-1.12834609e+00 -3.01352183e-02  2.55734233e+00  2.84705312e-01\n",
            "   9.11349667e-01 -7.31707813e-01 -4.29765900e-01  2.01411952e+00\n",
            "  -5.86094326e-01  3.31398272e-01 -1.11816923e+00 -7.83137702e-02\n",
            "  -2.78735485e-01 -2.02944360e-01 -1.76794084e-01]\n",
            " [ 3.61395609e+00  3.19014418e+00 -8.65040551e-01  2.93611879e+00\n",
            "  -5.00332255e-01  1.66550312e-01 -1.32970809e+00 -1.07364973e+00\n",
            "  -1.28721675e+00 -6.33447707e-01 -6.72633565e-02  3.58875864e+00\n",
            "  -1.10510974e+00 -4.47513830e+00  1.95050163e+00]\n",
            " [ 1.79821468e+00 -1.85466123e+00 -4.07153115e-01 -1.65349116e+00\n",
            "   1.19839062e+00  2.10616468e+00  3.24926329e-01 -2.36081117e-01\n",
            "  -8.61758121e-02  3.38139000e-01 -2.93934771e-01  8.32824007e-02\n",
            "  -8.54832828e-02 -5.07317601e-01 -9.92601850e-01]\n",
            " [ 1.19982841e+00 -1.14467376e+00 -3.41810701e-01 -1.67246444e+00\n",
            "  -1.83504370e+00 -2.73494351e-01 -1.71121983e+00 -1.33132936e+00\n",
            "  -1.12570549e+00  2.40998744e-01 -7.55549018e-01  6.08110362e-01\n",
            "  -4.32449705e-02 -5.54866817e-01 -3.55177303e-01]\n",
            " [ 1.39861302e+00 -1.51287024e+00 -3.66882162e-01 -1.68449878e+00\n",
            "  -1.65938747e+00 -7.38493213e-01  2.15748090e+00 -2.85442816e-01\n",
            "  -3.33501245e-01  3.72369188e-01 -6.68844828e-01  4.98029676e-01\n",
            "   9.19523458e-02 -5.09664999e-01 -2.09340391e+00]\n",
            " [ 1.03621985e+00  2.98039337e+00 -4.60046043e-01 -8.25002934e-01\n",
            "  -6.09943320e-02 -2.89655612e-01 -3.84038077e-02  1.17061172e-01\n",
            "  -7.02943434e-02 -2.64321302e+00  7.34971622e-01 -8.69165172e-01\n",
            "   4.17756743e-01 -5.23171642e-01 -2.78574610e-01]\n",
            " [ 5.41913550e-01 -1.79043889e+00 -4.11140265e-01 -2.14278890e+00\n",
            "  -5.02383100e-01 -8.80497052e-01  2.16444110e+00 -5.52438681e-01\n",
            "  -3.99104717e-01  2.76621007e-01 -4.66016624e-01  1.06789077e+00\n",
            "  -2.55206863e-01  6.55002326e-03  1.94007532e-01]\n",
            " [ 1.79452046e+00 -1.85054773e+00 -3.61269880e-01 -1.50315546e+00\n",
            "   4.45742161e-01  2.24474888e+00  2.54770307e-01 -1.45880747e-01\n",
            "  -9.43927221e-02  3.47599689e-01 -3.18341283e-01 -2.30892432e-02\n",
            "   2.64284310e-02 -1.49766789e-01  1.57999772e-01]\n",
            " [ 3.34216070e+00 -1.62218163e+00 -3.07476531e-01 -5.84465291e-01\n",
            "  -1.64163389e-02 -4.34881308e-01 -2.33243338e-01  1.50847126e-01\n",
            "  -5.23669359e-02  1.65784434e+00  2.19990441e+00 -8.75016443e-01\n",
            "  -2.96435267e-01 -5.17682244e-01 -7.55564711e-01]\n",
            " [-2.73134633e+00  2.26034364e-01 -1.60178645e+00  5.94360926e-01\n",
            "  -4.00444453e+00  4.59795707e-02 -7.17152146e-01  3.06895532e+00\n",
            "  -4.01905566e-01  1.81378133e-01 -1.17936095e+00 -4.19419398e-01\n",
            "   3.80682525e-01 -3.47772167e-01 -1.53798846e+00]\n",
            " [ 3.44321716e+00 -1.94648752e+00 -3.15934246e-01 -4.32661274e-01\n",
            "   3.80137277e-01 -4.68963876e-01 -1.86514167e-01  1.14337077e-01\n",
            "  -7.55929291e-02  1.62615909e+00  2.26883227e+00 -7.97041978e-01\n",
            "  -3.04476120e-01 -1.21660377e-01 -4.24854383e-01]\n",
            " [-2.97059264e-01 -4.16378371e-01  2.69057774e+00  8.20246509e-01\n",
            "   3.22767321e-01  2.36085168e+00  3.02255942e-01 -9.77807041e-02\n",
            "  -1.37905640e-01  3.43272355e-01 -3.32718834e-01 -6.59412605e-01\n",
            "   3.18946452e-01  3.95741621e-01  7.26250140e-01]\n",
            " [ 1.53344733e+00 -6.12778730e-01  2.54737150e+00  2.18808844e+00\n",
            "   9.33100541e-01 -1.00235332e+00  2.32921885e+00 -1.04495027e+00\n",
            "  -4.94085684e-01  6.42067354e-01 -5.75952471e-01 -1.23104968e+00\n",
            "   4.24753870e-01  1.39259572e-01  2.80730139e-01]\n",
            " [ 2.36176324e+00 -1.91536003e+00 -2.72553888e-01 -9.98021460e-01\n",
            "  -2.11795853e-01 -3.54019691e-01 -2.72193314e-01  2.30241870e-01\n",
            "  -8.49031972e-02  1.50727548e+00  2.34169747e+00 -2.62426336e-01\n",
            "  -4.41705364e-01  4.18570481e-01  1.20672516e+00]\n",
            " [ 1.90432530e+00  2.57811079e+00 -5.92486922e-01  3.95620879e-01\n",
            "  -4.01055755e-01 -4.75505832e-01 -5.17965233e-01  2.16545340e+00\n",
            "  -6.10504553e-01  2.98223646e-01 -1.30232001e+00 -9.44017166e-01\n",
            "   3.06100629e-01  4.28748253e-01  1.28862232e+00]\n",
            " [-8.29113693e-01 -1.81303731e+00 -3.47031746e-01 -3.36378122e+00\n",
            "   6.23729362e-01  2.19670946e+00  2.71635070e-01  8.87017007e-02\n",
            "  -6.07151999e-02  8.38040345e-03 -1.41023865e-01  1.58571579e+00\n",
            "  -5.11214321e-01  8.37015068e-02 -6.03038335e-01]\n",
            " [-2.15900268e+00 -7.16377337e-01 -1.80155884e+00  9.44824173e-01\n",
            "   6.51414729e-01 -6.29032058e-01 -4.77034592e-01  2.04031888e+00\n",
            "  -5.61533259e-01  2.35807253e-01 -8.11815230e-01 -3.40105891e-01\n",
            "  -1.57592636e-01  6.53106049e-02  4.72994449e-01]\n",
            " [-3.26203631e+00 -1.04478144e+00 -1.87320657e+00  1.34495583e-01\n",
            "   2.14160941e+00 -8.51249007e-01 -3.62151252e-01  1.92705966e+00\n",
            "  -5.78662106e-01  3.92296193e-02 -5.89997987e-01  6.15375337e-01\n",
            "  -5.83736283e-01  2.83764101e-01  1.18081109e-01]\n",
            " [ 4.42163712e-01 -2.34652755e+00 -2.72374953e-01 -2.44952521e+00\n",
            "   1.05200698e+00 -4.72085065e-01  5.48387708e-02  7.17239181e-02\n",
            "  -9.83207033e-02 -2.70160440e+00  1.08031114e+00  6.69898155e-01\n",
            "  -1.85853460e-01  3.60116579e-01  5.87955262e-01]\n",
            " [-7.30738624e-01 -8.45346850e-01 -1.74104822e+00  1.96368768e+00\n",
            "  -7.85529338e-02 -3.37730498e-01 -4.40413941e-01 -3.97457480e-01\n",
            "   2.49563634e+00  2.23181795e-01 -3.51860799e-01 -7.36898398e-01\n",
            "   3.20679802e-01  1.39968296e-01 -1.71806810e-01]\n",
            " [ 2.22939752e+00 -1.83685334e+00 -4.36848983e-01 -9.82355343e-01\n",
            "  -3.27411151e-01 -8.99202679e-01  2.18091714e+00 -7.31761498e-01\n",
            "  -4.17202334e-01  4.80787346e-01 -5.56670393e-01  9.96992196e-02\n",
            "   4.65858724e-02 -1.72566363e-01  2.78473016e-01]\n",
            " [-1.74185580e+00 -7.54122215e-01 -1.76837836e+00  1.38427506e+00\n",
            "  -2.73168390e-01 -4.57071067e-01 -5.25932652e-01  2.19639402e+00\n",
            "  -5.58745660e-01  2.58698590e-01 -8.56834294e-01 -5.87570360e-01\n",
            "   6.00315383e-02  3.39322792e-01  1.18748508e+00]\n",
            " [-7.07835208e-01  1.57552375e-01  2.80979792e+00  4.75672245e-01\n",
            "  -1.71242410e+00 -8.04925154e-02 -2.97926146e-01  6.60397477e-01\n",
            "  -3.97631516e-02  1.41035574e+00  2.21419323e+00 -4.61059541e-01\n",
            "  -1.92912638e-01  1.81462381e-01  1.02200675e-02]\n",
            " [ 2.62433511e-01 -1.33937484e+00 -3.05658037e-01 -2.26049913e+00\n",
            "  -1.67123030e+00 -2.38546711e-01 -6.13752814e-01 -1.42864443e-02\n",
            "   2.54257670e+00  1.04015337e-01 -6.34387582e-01  1.10566980e+00\n",
            "  -2.23704681e-01 -5.69355055e-02  1.53050710e-01]\n",
            " [-1.38541523e+00 -8.90305692e-01 -1.77671930e+00  1.18535364e+00\n",
            "   1.27952875e+00  2.23703213e+00  3.31365678e-01 -2.72042191e-01\n",
            "  -9.69984909e-02  2.36921569e-01  3.15641816e-02 -7.08145374e-01\n",
            "   1.90762965e-01 -1.42069568e-01  7.55364391e-02]\n",
            " [-1.54812266e-01  3.23133344e-01  2.67524434e+00  6.60909118e-01\n",
            "  -1.41337227e-01  2.36277944e+00  2.33034191e-01 -1.04748612e-01\n",
            "  -8.41024356e-02  4.50177935e-01 -4.86447389e-01 -9.75337056e-01\n",
            "   3.36377015e-01 -7.08629315e-01 -5.27833889e-01]\n",
            " [-2.44919174e+00 -1.21739642e-01  2.71385332e+00 -3.18426534e-01\n",
            "  -1.73168004e+00 -1.60971466e-01 -1.59910119e+00 -1.06604065e+00\n",
            "  -1.16877176e+00 -4.39990517e-02 -5.80921841e-01  1.14488918e+00\n",
            "  -4.86690194e-02  6.38182515e-01  1.44983497e-01]\n",
            " [-1.88430057e+00 -5.98103729e-01 -1.83918083e+00  9.84809777e-01\n",
            "   1.07642383e+00 -7.22803431e-01 -4.25858974e-01  2.00136287e+00\n",
            "  -5.35223532e-01  2.50474645e-01 -8.20993648e-01 -3.93185985e-01\n",
            "  -1.83480151e-01 -2.95705905e-01 -1.01038647e+00]\n",
            " [-9.70694609e-01  2.83085133e+00 -5.92552995e-01 -1.77066474e+00\n",
            "   1.75982374e-01 -4.96670364e-01 -1.56515632e+00 -1.52432365e+00\n",
            "  -1.20468207e+00 -1.65721935e-01 -5.61932272e-01  1.23310662e+00\n",
            "  -3.09834717e-01  2.01129098e-01  1.10095003e-01]\n",
            " [-5.63674285e-01 -7.46660810e-01 -1.66880243e+00  1.69274336e+00\n",
            "   6.91864107e-01 -4.18075898e-01 -1.87919125e-01  5.77372387e-02\n",
            "  -6.71376675e-02  1.48336235e+00  2.58713490e+00 -1.26037215e+00\n",
            "  -2.24207899e-01 -4.57985700e-03 -2.26162127e-01]\n",
            " [-1.14129541e-01 -1.81659183e+00 -2.65685303e-01 -3.02093382e+00\n",
            "   7.41903375e-01 -4.81281445e-01  5.03336518e-03  1.21360216e-01\n",
            "  -5.23595319e-02 -2.70316099e+00  1.00817675e+00  8.11795418e-01\n",
            "  -2.95758726e-01 -2.73505234e-01 -5.21867027e-01]\n",
            " [ 5.74335525e-01  2.28201799e+00 -6.48456652e-01 -5.77180837e-01\n",
            "   1.06449426e+00 -5.79715588e-01 -1.47079753e+00 -1.74409611e+00\n",
            "  -1.25661491e+00 -6.24428382e-02 -5.01738147e-01  6.26813182e-01\n",
            "  -1.07298756e-01  6.34835500e-01  7.97175379e-01]\n",
            " [ 3.01064587e+00 -2.10720604e+00 -3.33253865e-01 -1.52391957e-01\n",
            "  -1.57049482e+00 -6.58437633e-01  2.11078991e+00 -5.71940881e-01\n",
            "  -4.38991122e-01  5.62145716e-01 -6.41352629e-01 -4.95178546e-01\n",
            "   4.42605600e-01  7.11142547e-01  1.64055797e+00]\n",
            " [ 1.28303159e+00  2.47958294e+00 -6.42623665e-01 -1.94552017e-01\n",
            "   4.27595330e-01 -9.35934842e-01  2.23183254e+00 -8.35668202e-01\n",
            "  -4.71258927e-01  2.53928228e-01 -5.46538681e-01 -1.82685459e-01\n",
            "   1.75798568e-01  3.98794208e-01  8.05035646e-01]\n",
            " [-2.18118394e+00 -7.90480475e-01 -1.69909231e+00  1.03681807e+00\n",
            "  -5.52417706e-01 -2.63508063e-01 -4.81648975e-01 -1.89341054e-01\n",
            "   2.51472892e+00  3.88925015e-02 -2.73147662e-01  8.24648189e-02\n",
            "   1.05757705e-01  5.29270480e-01  4.01250878e-02]\n",
            " [ 2.19967188e+00 -1.91278815e+00 -3.23549231e-01 -8.09209789e-01\n",
            "  -7.08191471e-01 -3.42149797e-01 -5.40130930e-01 -3.69217294e-01\n",
            "   2.46447891e+00  3.27127794e-01 -6.53928933e-01  3.52216340e-02\n",
            "   8.12894947e-02  3.67808756e-01  1.25958308e+00]\n",
            " [-3.24046202e-01 -2.11575277e-01  2.70469974e+00  6.75565577e-01\n",
            "   5.68086172e-01 -4.20994769e-01 -1.82777309e-01  1.43404525e-01\n",
            "  -1.10599216e-01  1.45812728e+00  2.37338856e+00 -4.97398522e-01\n",
            "  -4.47512952e-01  2.12563484e-01  7.39872578e-01]\n",
            " [ 2.41143601e+00 -2.32619218e+00 -3.04146148e-01 -1.05506855e+00\n",
            "   1.15172339e+00 -5.67322982e-01 -1.42906114e-01  5.04326326e-02\n",
            "  -1.10820621e-01  1.48552874e+00  2.42215253e+00 -1.31186523e-01\n",
            "  -5.70713300e-01  5.51421336e-01  2.53038084e-01]\n",
            " [ 9.02781682e-02 -1.92382872e+00 -2.28378494e-01 -2.73092861e+00\n",
            "  -6.96578493e-03 -3.37654156e-01 -2.55823134e-02  2.80375907e-01\n",
            "  -4.97243280e-02 -2.71475124e+00  9.91413506e-01  7.15673023e-01\n",
            "  -1.32432488e-01  1.30043628e-01 -2.64829265e-02]\n",
            " [-2.44090283e+00 -4.98073874e-01 -1.65762948e+00  8.51530502e-01\n",
            "  -2.15452823e+00 -7.90175778e-02 -1.62697248e+00 -1.04321001e+00\n",
            "  -1.10190944e+00  3.13076908e-03 -4.25252415e-01  2.35993367e-01\n",
            "   2.82538479e-01  1.88903927e-01 -1.18747128e+00]\n",
            " [-1.02745569e+00 -4.63583699e-01  2.53391053e+00  3.52550551e-01\n",
            "   2.03536731e+00 -7.16381260e-01 -3.00239125e-01 -6.82713900e-01\n",
            "   2.42824433e+00  1.35445748e-01 -4.02373355e-01  5.30485883e-01\n",
            "  -3.36597604e-01  8.74377328e-02 -1.91442947e-01]\n",
            " [ 1.29938973e+00  2.97093552e+00 -4.90674049e-01 -1.52208882e-01\n",
            "  -1.41675126e+00 -2.02820781e-01 -5.54659133e-01 -1.51373545e-01\n",
            "   2.48973042e+00  1.33957836e-01 -8.34577096e-01 -4.35925587e-01\n",
            "   3.98097229e-01  1.40634951e-01 -5.50264128e-02]\n",
            " [ 2.39068757e+00 -1.71219810e+00 -2.42952045e-01 -1.13672833e+00\n",
            "  -6.43892626e-01 -3.27782961e-01 -2.63951768e-01  3.67364828e-01\n",
            "  -4.36052245e-02  1.53369891e+00  2.22792855e+00 -3.81044339e-01\n",
            "  -3.56530741e-01 -3.63090661e-02 -5.46698162e-01]\n",
            " [-1.70058774e+00 -3.90950917e-01 -1.75512803e+00  1.19477346e+00\n",
            "  -6.59321496e-01 -3.29816297e-01 -1.58976331e+00 -1.51294793e+00\n",
            "  -1.14356331e+00  1.58981268e-01 -4.10729411e-01 -2.17731579e-01\n",
            "   1.63965628e-01 -4.80005378e-01 -6.84915835e-01]\n",
            " [-1.34929036e+00  5.42429539e-01  2.74043275e+00  3.36921193e-02\n",
            "  -1.70002696e+00  2.62466286e+00  1.05212442e-01  2.48284489e-01\n",
            "  -5.70156835e-02  2.98315319e-01 -4.69408652e-01 -3.79493163e-01\n",
            "   2.98084304e-01 -3.07756392e-01  7.14852507e-01]\n",
            " [-2.11429750e+00 -1.47586902e-01  2.68062747e+00 -4.93398455e-01\n",
            "  -5.42736027e-03  2.39210158e+00  2.77603667e-01  1.44088538e-01\n",
            "  -9.29998926e-02  1.06670450e-01 -2.38165527e-01  4.65840312e-01\n",
            "  -3.50550682e-02  2.05608192e-01  2.12257626e-01]\n",
            " [-1.03557078e+00 -4.90994072e-01 -1.83459467e+00  1.49642199e+00\n",
            "   2.46556343e-01 -9.14345576e-01  2.22524895e+00 -8.35720777e-01\n",
            "  -3.83920608e-01  4.13676115e-01 -2.95671002e-01 -7.02876699e-01\n",
            "   2.10754710e-01 -6.11676632e-01 -9.33751638e-01]\n",
            " [ 1.01974034e+00  2.21879386e+00 -6.72397183e-01 -3.44375168e-01\n",
            "   1.64289521e+00 -7.99742216e-01 -3.67022505e-01  1.92602429e+00\n",
            "  -6.33489400e-01  1.45167008e-01 -1.08641886e+00 -1.33136692e-01\n",
            "  -1.42903907e-01  5.69965805e-01  3.68723683e-01]\n",
            " [ 2.40846227e+00  2.53290931e+00 -4.88363346e-01  1.63179304e-01\n",
            "   8.06338094e-01 -3.96062451e-01  5.20859035e-02 -1.03480133e-01\n",
            "  -1.12587734e-01 -2.51841180e+00  7.43531563e-01 -1.51363499e+00\n",
            "   6.08278616e-01 -2.44622171e-01 -2.43773017e-01]]\n"
          ],
          "name": "stdout"
        }
      ]
    },
    {
      "cell_type": "markdown",
      "metadata": {
        "id": "4sw_JKLLbMcc"
      },
      "source": [
        "### 5.3.2.3 Random Forest. (10 pts)\n",
        "\n"
      ]
    },
    {
      "cell_type": "markdown",
      "metadata": {
        "id": "UwTfPha2TUub"
      },
      "source": [
        "##### Step 1: Hyperparameter tuning. \n",
        "Use grid search and train a random forest model on the transformed train dataset. Take a look at the sklearn `RandomForestRegressor` documentation and tune the max_depth hyperparameter using grid search. We have already tested the number of estimators hyperparameter for you. Note this section may take a while to run depending on how large your grid is. \n",
        "\n",
        "(Hint: refer to the GridSearchCV documentation and do some reading on how the max_depth in a RF model affects the result - while theory may help guide a rough estimate of possible hyperparameters, we can cross validate values using tools like GridSearch.\n",
        "\n",
        "Our autograder has tiered points for this question depending on your final MSE value but is fairly generous; we are not requiring that you find the **most** optimal value for this hyperparameter but rather demonstrate understanding of grid search optimization. (4 pts)\n"
      ]
    },
    {
      "cell_type": "code",
      "metadata": {
        "colab": {
          "base_uri": "https://localhost:8080/"
        },
        "id": "W08Wd5JKZWyz",
        "outputId": "b9668967-a141-42c9-d5e4-570cf7d54352"
      },
      "source": [
        "from sklearn.ensemble import RandomForestRegressor\n",
        "from sklearn.model_selection import GridSearchCV\n",
        "# Add your code here\n",
        "# Only tune the max depth of the trees in the RF hyperparameter.\n",
        "rf = RandomForestRegressor(n_estimators=140)\n",
        "# depth = []\n",
        "depth = [5,10,14]\n",
        "nEstimator = [140]\n",
        "#apply 5 fold cross validation\n",
        "param_grid = {\n",
        "    'max_depth': depth,\n",
        "    'max_features': ['auto', 'sqrt'],\n",
        "    'n_estimators': nEstimator\n",
        "}\n",
        "# Instantiate the grid search model\n",
        "grid_searchcv = GridSearchCV(estimator = rf, param_grid = param_grid, \\\n",
        "                          cv = 3, n_jobs = -1)  \n",
        "\n",
        "grid_searchcv.fit(x_train,y_train)"
      ],
      "execution_count": 74,
      "outputs": [
        {
          "output_type": "stream",
          "text": [
            "/usr/local/lib/python3.7/dist-packages/sklearn/model_selection/_search.py:739: DataConversionWarning: A column-vector y was passed when a 1d array was expected. Please change the shape of y to (n_samples,), for example using ravel().\n",
            "  self.best_estimator_.fit(X, y, **fit_params)\n"
          ],
          "name": "stderr"
        },
        {
          "output_type": "execute_result",
          "data": {
            "text/plain": [
              "GridSearchCV(cv=3, error_score=nan,\n",
              "             estimator=RandomForestRegressor(bootstrap=True, ccp_alpha=0.0,\n",
              "                                             criterion='mse', max_depth=None,\n",
              "                                             max_features='auto',\n",
              "                                             max_leaf_nodes=None,\n",
              "                                             max_samples=None,\n",
              "                                             min_impurity_decrease=0.0,\n",
              "                                             min_impurity_split=None,\n",
              "                                             min_samples_leaf=1,\n",
              "                                             min_samples_split=2,\n",
              "                                             min_weight_fraction_leaf=0.0,\n",
              "                                             n_estimators=140, n_jobs=None,\n",
              "                                             oob_score=False, random_state=None,\n",
              "                                             verbose=0, warm_start=False),\n",
              "             iid='deprecated', n_jobs=-1,\n",
              "             param_grid={'max_depth': [5, 10, 14],\n",
              "                         'max_features': ['auto', 'sqrt'],\n",
              "                         'n_estimators': [140]},\n",
              "             pre_dispatch='2*n_jobs', refit=True, return_train_score=False,\n",
              "             scoring=None, verbose=0)"
            ]
          },
          "metadata": {
            "tags": []
          },
          "execution_count": 74
        }
      ]
    },
    {
      "cell_type": "code",
      "metadata": {
        "id": "Vxg7P8yyHwwN"
      },
      "source": [
        "grid_searchcv.best_params_, grid_searchcv.best_score_"
      ],
      "execution_count": null,
      "outputs": []
    },
    {
      "cell_type": "markdown",
      "metadata": {
        "id": "cLnVsNVzS2Co"
      },
      "source": [
        "##### Step 2: Fitting RF\n",
        "Fit the random forest on the training data using the parameters you computed above. Then make predictions on the test set, report the root mean squared error for the test set. (3 pts)"
      ]
    },
    {
      "cell_type": "code",
      "metadata": {
        "id": "3avoNnIaZe3P",
        "colab": {
          "base_uri": "https://localhost:8080/"
        },
        "outputId": "8970a4ad-e485-4128-b5b0-df199f490333"
      },
      "source": [
        "# Add your code here\n",
        "# Set n_estimators = 140, max_depth = 7 (grid_searchcv.best_params_)\n",
        "rf = RandomForestRegressor(n_estimators= 140, max_depth=14)\n",
        "rf.fit(x_train,y_train)\n",
        "y_pred = rf.predict(x_test)"
      ],
      "execution_count": 75,
      "outputs": [
        {
          "output_type": "stream",
          "text": [
            "/usr/local/lib/python3.7/dist-packages/ipykernel_launcher.py:4: DataConversionWarning: A column-vector y was passed when a 1d array was expected. Please change the shape of y to (n_samples,), for example using ravel().\n",
            "  after removing the cwd from sys.path.\n"
          ],
          "name": "stderr"
        }
      ]
    },
    {
      "cell_type": "code",
      "metadata": {
        "id": "XYrdo2CgTThM",
        "colab": {
          "base_uri": "https://localhost:8080/"
        },
        "outputId": "c24b24af-7eb1-4562-e248-68d17ec2b8b8"
      },
      "source": [
        "# Print cell\n",
        "print('check_rf', (np.sqrt(mean_squared_error(y_test, y_pred))))"
      ],
      "execution_count": 76,
      "outputs": [
        {
          "output_type": "stream",
          "text": [
            "check_rf 0.6129609799791743\n"
          ],
          "name": "stdout"
        }
      ]
    },
    {
      "cell_type": "markdown",
      "metadata": {
        "id": "-ywlOaie7wVF"
      },
      "source": [
        "## Almost halfway there :)\n",
        "\n",
        "Well done! Almost halfway there :)\n",
        "\n"
      ]
    },
    {
      "cell_type": "markdown",
      "metadata": {
        "id": "q_eSiS5ZbVjf"
      },
      "source": [
        "# Section 2 : Distributed Machine Learning with Spark (55 Points)\n",
        "\n",
        "Apache Spark ML is the machine learning library consisting of common learning algorithms and utilities, including classification, regression, clustering, collaborative filtering, dimensionality reduction, and underlying optimization primitives.\n",
        "\n",
        "Why Spark ML?\n",
        "\n",
        "Moving to the Big Data Era requires heavy iterative computations on very big datasets. Standard implementations of machine learning algorithms require very powerful machines to be able to run. Depending on high-end machines is not advantageous due to their high price and improper costs of scaling up. The idea of using distributed computing engines is to distribute the calculations to multiple low-end machines (commodity hardware) instead of a single high-end one. This definitely speeds up the learning phase and allows us to create better models.\n",
        "\n",
        "Read more about it with the python documentation [here](https://spark.apache.org/docs/latest/ml-guide.html)"
      ]
    },
    {
      "cell_type": "markdown",
      "metadata": {
        "id": "R4nyIijZhTXK"
      },
      "source": [
        "### Initializing Spark Connection - Boring setup stuff again\n"
      ]
    },
    {
      "cell_type": "code",
      "metadata": {
        "id": "G8RH4R771X6n",
        "colab": {
          "base_uri": "https://localhost:8080/"
        },
        "outputId": "62ac1a04-6709-436e-ec49-fcd2f79d341f"
      },
      "source": [
        "!apt install libkrb5-dev\n",
        "#!wget https://www-us.apache.org/dist/spark/spark-2.4.5/spark-2.4.5-bin-hadoop2.7.tgz\n",
        "#!tar xf spark-2.4.5-bin-hadoop2.7.tgz\n",
        "\n",
        "!wget https://www-us.apache.org/dist/spark/spark-3.0.2/spark-3.0.2-bin-hadoop3.2.tgz\n",
        "!tar xf spark-3.0.2-bin-hadoop3.2.tgz\n",
        "\n",
        "!pip install findspark\n",
        "!pip install sparkmagic\n",
        "!pip install pyspark\n",
        "!pip install pyspark --user\n",
        "!pip install seaborn --user\n",
        "!pip install plotly --user\n",
        "!pip install imageio --user\n",
        "!pip install folium --user"
      ],
      "execution_count": 77,
      "outputs": [
        {
          "output_type": "stream",
          "text": [
            "Reading package lists... Done\n",
            "Building dependency tree       \n",
            "Reading state information... Done\n",
            "The following additional packages will be installed:\n",
            "  comerr-dev krb5-multidev libgssrpc4 libkadm5clnt-mit11 libkadm5srv-mit11\n",
            "  libkdb5-9\n",
            "Suggested packages:\n",
            "  doc-base krb5-doc krb5-user\n",
            "The following NEW packages will be installed:\n",
            "  comerr-dev krb5-multidev libgssrpc4 libkadm5clnt-mit11 libkadm5srv-mit11\n",
            "  libkdb5-9 libkrb5-dev\n",
            "0 upgraded, 7 newly installed, 0 to remove and 11 not upgraded.\n",
            "Need to get 349 kB of archives.\n",
            "After this operation, 1,992 kB of additional disk space will be used.\n",
            "Get:1 http://archive.ubuntu.com/ubuntu bionic-updates/main amd64 libgssrpc4 amd64 1.16-2ubuntu0.2 [54.4 kB]\n",
            "Get:2 http://archive.ubuntu.com/ubuntu bionic-updates/main amd64 libkdb5-9 amd64 1.16-2ubuntu0.2 [37.3 kB]\n",
            "Get:3 http://archive.ubuntu.com/ubuntu bionic-updates/main amd64 libkadm5srv-mit11 amd64 1.16-2ubuntu0.2 [49.7 kB]\n",
            "Get:4 http://archive.ubuntu.com/ubuntu bionic-updates/main amd64 libkadm5clnt-mit11 amd64 1.16-2ubuntu0.2 [38.0 kB]\n",
            "Get:5 http://archive.ubuntu.com/ubuntu bionic-updates/main amd64 comerr-dev amd64 2.1-1.44.1-1ubuntu1.3 [38.5 kB]\n",
            "Get:6 http://archive.ubuntu.com/ubuntu bionic-updates/main amd64 krb5-multidev amd64 1.16-2ubuntu0.2 [120 kB]\n",
            "Get:7 http://archive.ubuntu.com/ubuntu bionic-updates/main amd64 libkrb5-dev amd64 1.16-2ubuntu0.2 [11.7 kB]\n",
            "Fetched 349 kB in 1s (576 kB/s)\n",
            "Selecting previously unselected package libgssrpc4:amd64.\n",
            "(Reading database ... 149990 files and directories currently installed.)\n",
            "Preparing to unpack .../0-libgssrpc4_1.16-2ubuntu0.2_amd64.deb ...\n",
            "Unpacking libgssrpc4:amd64 (1.16-2ubuntu0.2) ...\n",
            "Selecting previously unselected package libkdb5-9:amd64.\n",
            "Preparing to unpack .../1-libkdb5-9_1.16-2ubuntu0.2_amd64.deb ...\n",
            "Unpacking libkdb5-9:amd64 (1.16-2ubuntu0.2) ...\n",
            "Selecting previously unselected package libkadm5srv-mit11:amd64.\n",
            "Preparing to unpack .../2-libkadm5srv-mit11_1.16-2ubuntu0.2_amd64.deb ...\n",
            "Unpacking libkadm5srv-mit11:amd64 (1.16-2ubuntu0.2) ...\n",
            "Selecting previously unselected package libkadm5clnt-mit11:amd64.\n",
            "Preparing to unpack .../3-libkadm5clnt-mit11_1.16-2ubuntu0.2_amd64.deb ...\n",
            "Unpacking libkadm5clnt-mit11:amd64 (1.16-2ubuntu0.2) ...\n",
            "Selecting previously unselected package comerr-dev:amd64.\n",
            "Preparing to unpack .../4-comerr-dev_2.1-1.44.1-1ubuntu1.3_amd64.deb ...\n",
            "Unpacking comerr-dev:amd64 (2.1-1.44.1-1ubuntu1.3) ...\n",
            "Selecting previously unselected package krb5-multidev:amd64.\n",
            "Preparing to unpack .../5-krb5-multidev_1.16-2ubuntu0.2_amd64.deb ...\n",
            "Unpacking krb5-multidev:amd64 (1.16-2ubuntu0.2) ...\n",
            "Selecting previously unselected package libkrb5-dev:amd64.\n",
            "Preparing to unpack .../6-libkrb5-dev_1.16-2ubuntu0.2_amd64.deb ...\n",
            "Unpacking libkrb5-dev:amd64 (1.16-2ubuntu0.2) ...\n",
            "Setting up libgssrpc4:amd64 (1.16-2ubuntu0.2) ...\n",
            "Setting up comerr-dev:amd64 (2.1-1.44.1-1ubuntu1.3) ...\n",
            "Setting up libkdb5-9:amd64 (1.16-2ubuntu0.2) ...\n",
            "Setting up libkadm5srv-mit11:amd64 (1.16-2ubuntu0.2) ...\n",
            "Setting up libkadm5clnt-mit11:amd64 (1.16-2ubuntu0.2) ...\n",
            "Setting up krb5-multidev:amd64 (1.16-2ubuntu0.2) ...\n",
            "Setting up libkrb5-dev:amd64 (1.16-2ubuntu0.2) ...\n",
            "Processing triggers for man-db (2.8.3-2ubuntu0.1) ...\n",
            "Processing triggers for libc-bin (2.27-3ubuntu1.4) ...\n",
            "/sbin/ldconfig.real: /usr/local/lib/python3.7/dist-packages/ideep4py/lib/libmkldnn.so.0 is not a symbolic link\n",
            "\n",
            "--2021-02-24 17:33:36--  https://www-us.apache.org/dist/spark/spark-3.0.2/spark-3.0.2-bin-hadoop3.2.tgz\n",
            "Resolving www-us.apache.org (www-us.apache.org)... 207.244.88.140\n",
            "Connecting to www-us.apache.org (www-us.apache.org)|207.244.88.140|:443... connected.\n",
            "HTTP request sent, awaiting response... 302 Found\n",
            "Location: https://downloads.apache.org/spark/spark-3.0.2/spark-3.0.2-bin-hadoop3.2.tgz [following]\n",
            "--2021-02-24 17:33:36--  https://downloads.apache.org/spark/spark-3.0.2/spark-3.0.2-bin-hadoop3.2.tgz\n",
            "Resolving downloads.apache.org (downloads.apache.org)... 88.99.95.219, 2a01:4f8:10a:201a::2\n",
            "Connecting to downloads.apache.org (downloads.apache.org)|88.99.95.219|:443... connected.\n",
            "HTTP request sent, awaiting response... 200 OK\n",
            "Length: 224619134 (214M) [application/x-gzip]\n",
            "Saving to: ‘spark-3.0.2-bin-hadoop3.2.tgz’\n",
            "\n",
            "spark-3.0.2-bin-had 100%[===================>] 214.21M  29.3MB/s    in 8.0s    \n",
            "\n",
            "2021-02-24 17:33:45 (26.7 MB/s) - ‘spark-3.0.2-bin-hadoop3.2.tgz’ saved [224619134/224619134]\n",
            "\n",
            "Collecting findspark\n",
            "  Downloading https://files.pythonhosted.org/packages/fc/2d/2e39f9a023479ea798eed4351cd66f163ce61e00c717e03c37109f00c0f2/findspark-1.4.2-py2.py3-none-any.whl\n",
            "Installing collected packages: findspark\n",
            "Successfully installed findspark-1.4.2\n",
            "Collecting sparkmagic\n",
            "  Downloading https://files.pythonhosted.org/packages/a4/5d/61386dff96bfe98729228232a75750f927448f287d88a8f7d26b8c6bf7a4/sparkmagic-0.18.0.tar.gz\n",
            "Collecting hdijupyterutils>=0.6\n",
            "  Downloading https://files.pythonhosted.org/packages/c8/43/39862a3410a48767e3e0dee5c700ba882ad22be00947e150cf6adadd1e26/hdijupyterutils-0.18.0.tar.gz\n",
            "Collecting autovizwidget>=0.6\n",
            "  Downloading https://files.pythonhosted.org/packages/6d/5d/b52d62ab21e14091c926323613c57b74bd0329331b0eb727482570aeb396/autovizwidget-0.18.0.tar.gz\n",
            "Requirement already satisfied: ipython>=4.0.2 in /usr/local/lib/python3.7/dist-packages (from sparkmagic) (5.5.0)\n",
            "Collecting nose\n",
            "\u001b[?25l  Downloading https://files.pythonhosted.org/packages/15/d8/dd071918c040f50fa1cf80da16423af51ff8ce4a0f2399b7bf8de45ac3d9/nose-1.3.7-py3-none-any.whl (154kB)\n",
            "\u001b[K     |████████████████████████████████| 163kB 32.8MB/s \n",
            "\u001b[?25hCollecting mock\n",
            "  Downloading https://files.pythonhosted.org/packages/5c/03/b7e605db4a57c0f6fba744b11ef3ddf4ddebcada35022927a2b5fc623fdf/mock-4.0.3-py3-none-any.whl\n",
            "Requirement already satisfied: pandas>=0.17.1 in /usr/local/lib/python3.7/dist-packages (from sparkmagic) (1.0.5)\n",
            "Requirement already satisfied: numpy in /usr/local/lib/python3.7/dist-packages (from sparkmagic) (1.19.5)\n",
            "Requirement already satisfied: requests in /usr/local/lib/python3.7/dist-packages (from sparkmagic) (2.23.0)\n",
            "Requirement already satisfied: ipykernel in /usr/local/lib/python3.7/dist-packages (from sparkmagic) (4.10.1)\n",
            "Requirement already satisfied: ipywidgets>5.0.0 in /usr/local/lib/python3.7/dist-packages (from sparkmagic) (7.6.3)\n",
            "Requirement already satisfied: notebook>=4.2 in /usr/local/lib/python3.7/dist-packages (from sparkmagic) (5.3.1)\n",
            "Requirement already satisfied: tornado>=4 in /usr/local/lib/python3.7/dist-packages (from sparkmagic) (5.1.1)\n",
            "Collecting requests_kerberos>=0.8.0\n",
            "  Downloading https://files.pythonhosted.org/packages/ee/a2/866f2b9a60f75055137b9ad127033e397963b2c4769d4b5fab1c3c7e8be3/requests_kerberos-0.12.0-py2.py3-none-any.whl\n",
            "Requirement already satisfied: jupyter>=1 in /usr/local/lib/python3.7/dist-packages (from hdijupyterutils>=0.6->sparkmagic) (1.0.0)\n",
            "Requirement already satisfied: plotly>=3 in /usr/local/lib/python3.7/dist-packages (from autovizwidget>=0.6->sparkmagic) (4.4.1)\n",
            "Requirement already satisfied: pexpect; sys_platform != \"win32\" in /usr/local/lib/python3.7/dist-packages (from ipython>=4.0.2->sparkmagic) (4.8.0)\n",
            "Requirement already satisfied: traitlets>=4.2 in /usr/local/lib/python3.7/dist-packages (from ipython>=4.0.2->sparkmagic) (4.3.3)\n",
            "Requirement already satisfied: decorator in /usr/local/lib/python3.7/dist-packages (from ipython>=4.0.2->sparkmagic) (4.4.2)\n",
            "Requirement already satisfied: simplegeneric>0.8 in /usr/local/lib/python3.7/dist-packages (from ipython>=4.0.2->sparkmagic) (0.8.1)\n",
            "Requirement already satisfied: pygments in /usr/local/lib/python3.7/dist-packages (from ipython>=4.0.2->sparkmagic) (2.6.1)\n",
            "Requirement already satisfied: setuptools>=18.5 in /usr/local/lib/python3.7/dist-packages (from ipython>=4.0.2->sparkmagic) (53.0.0)\n",
            "Requirement already satisfied: pickleshare in /usr/local/lib/python3.7/dist-packages (from ipython>=4.0.2->sparkmagic) (0.7.5)\n",
            "Requirement already satisfied: prompt-toolkit<2.0.0,>=1.0.4 in /usr/local/lib/python3.7/dist-packages (from ipython>=4.0.2->sparkmagic) (1.0.18)\n",
            "Requirement already satisfied: python-dateutil>=2.6.1 in /usr/local/lib/python3.7/dist-packages (from pandas>=0.17.1->sparkmagic) (2.8.1)\n",
            "Requirement already satisfied: pytz>=2017.2 in /usr/local/lib/python3.7/dist-packages (from pandas>=0.17.1->sparkmagic) (2018.9)\n",
            "Requirement already satisfied: urllib3!=1.25.0,!=1.25.1,<1.26,>=1.21.1 in /usr/local/lib/python3.7/dist-packages (from requests->sparkmagic) (1.24.3)\n",
            "Requirement already satisfied: chardet<4,>=3.0.2 in /usr/local/lib/python3.7/dist-packages (from requests->sparkmagic) (3.0.4)\n",
            "Requirement already satisfied: idna<3,>=2.5 in /usr/local/lib/python3.7/dist-packages (from requests->sparkmagic) (2.10)\n",
            "Requirement already satisfied: certifi>=2017.4.17 in /usr/local/lib/python3.7/dist-packages (from requests->sparkmagic) (2020.12.5)\n",
            "Requirement already satisfied: jupyter-client in /usr/local/lib/python3.7/dist-packages (from ipykernel->sparkmagic) (5.3.5)\n",
            "Requirement already satisfied: nbformat>=4.2.0 in /usr/local/lib/python3.7/dist-packages (from ipywidgets>5.0.0->sparkmagic) (5.1.2)\n",
            "Requirement already satisfied: jupyterlab-widgets>=1.0.0; python_version >= \"3.6\" in /usr/local/lib/python3.7/dist-packages (from ipywidgets>5.0.0->sparkmagic) (1.0.0)\n",
            "Requirement already satisfied: widgetsnbextension~=3.5.0 in /usr/local/lib/python3.7/dist-packages (from ipywidgets>5.0.0->sparkmagic) (3.5.1)\n",
            "Requirement already satisfied: terminado>=0.8.1 in /usr/local/lib/python3.7/dist-packages (from notebook>=4.2->sparkmagic) (0.9.2)\n",
            "Requirement already satisfied: Send2Trash in /usr/local/lib/python3.7/dist-packages (from notebook>=4.2->sparkmagic) (1.5.0)\n",
            "Requirement already satisfied: jinja2 in /usr/local/lib/python3.7/dist-packages (from notebook>=4.2->sparkmagic) (2.11.3)\n",
            "Requirement already satisfied: ipython-genutils in /usr/local/lib/python3.7/dist-packages (from notebook>=4.2->sparkmagic) (0.2.0)\n",
            "Requirement already satisfied: nbconvert in /usr/local/lib/python3.7/dist-packages (from notebook>=4.2->sparkmagic) (5.6.1)\n",
            "Requirement already satisfied: jupyter-core>=4.4.0 in /usr/local/lib/python3.7/dist-packages (from notebook>=4.2->sparkmagic) (4.7.1)\n",
            "Collecting pykerberos<2.0.0,>=1.1.8; sys_platform != \"win32\"\n",
            "  Downloading https://files.pythonhosted.org/packages/9a/b8/1ec56b6fa8a2e2a81420bd3d90e70b59fc83f6b857fb2c2c37accddc8be3/pykerberos-1.2.1.tar.gz\n",
            "Collecting cryptography>=1.3; python_version != \"3.3\"\n",
            "\u001b[?25l  Downloading https://files.pythonhosted.org/packages/f8/1f/acde6ff69864c5e78b56488e3afd93c1ccc8c2651186e2a5f93d93f64859/cryptography-3.4.6-cp36-abi3-manylinux2014_x86_64.whl (3.2MB)\n",
            "\u001b[K     |████████████████████████████████| 3.2MB 53.2MB/s \n",
            "\u001b[?25hRequirement already satisfied: jupyter-console in /usr/local/lib/python3.7/dist-packages (from jupyter>=1->hdijupyterutils>=0.6->sparkmagic) (5.2.0)\n",
            "Requirement already satisfied: qtconsole in /usr/local/lib/python3.7/dist-packages (from jupyter>=1->hdijupyterutils>=0.6->sparkmagic) (5.0.2)\n",
            "Requirement already satisfied: six in /usr/local/lib/python3.7/dist-packages (from plotly>=3->autovizwidget>=0.6->sparkmagic) (1.15.0)\n",
            "Requirement already satisfied: retrying>=1.3.3 in /usr/local/lib/python3.7/dist-packages (from plotly>=3->autovizwidget>=0.6->sparkmagic) (1.3.3)\n",
            "Requirement already satisfied: ptyprocess>=0.5 in /usr/local/lib/python3.7/dist-packages (from pexpect; sys_platform != \"win32\"->ipython>=4.0.2->sparkmagic) (0.7.0)\n",
            "Requirement already satisfied: wcwidth in /usr/local/lib/python3.7/dist-packages (from prompt-toolkit<2.0.0,>=1.0.4->ipython>=4.0.2->sparkmagic) (0.2.5)\n",
            "Requirement already satisfied: pyzmq>=13 in /usr/local/lib/python3.7/dist-packages (from jupyter-client->ipykernel->sparkmagic) (22.0.3)\n",
            "Requirement already satisfied: jsonschema!=2.5.0,>=2.4 in /usr/local/lib/python3.7/dist-packages (from nbformat>=4.2.0->ipywidgets>5.0.0->sparkmagic) (2.6.0)\n",
            "Requirement already satisfied: MarkupSafe>=0.23 in /usr/local/lib/python3.7/dist-packages (from jinja2->notebook>=4.2->sparkmagic) (1.1.1)\n",
            "Requirement already satisfied: bleach in /usr/local/lib/python3.7/dist-packages (from nbconvert->notebook>=4.2->sparkmagic) (3.3.0)\n",
            "Requirement already satisfied: defusedxml in /usr/local/lib/python3.7/dist-packages (from nbconvert->notebook>=4.2->sparkmagic) (0.6.0)\n",
            "Requirement already satisfied: pandocfilters>=1.4.1 in /usr/local/lib/python3.7/dist-packages (from nbconvert->notebook>=4.2->sparkmagic) (1.4.3)\n",
            "Requirement already satisfied: entrypoints>=0.2.2 in /usr/local/lib/python3.7/dist-packages (from nbconvert->notebook>=4.2->sparkmagic) (0.3)\n",
            "Requirement already satisfied: mistune<2,>=0.8.1 in /usr/local/lib/python3.7/dist-packages (from nbconvert->notebook>=4.2->sparkmagic) (0.8.4)\n",
            "Requirement already satisfied: testpath in /usr/local/lib/python3.7/dist-packages (from nbconvert->notebook>=4.2->sparkmagic) (0.4.4)\n",
            "Requirement already satisfied: cffi>=1.12 in /usr/local/lib/python3.7/dist-packages (from cryptography>=1.3; python_version != \"3.3\"->requests_kerberos>=0.8.0->sparkmagic) (1.14.5)\n",
            "Requirement already satisfied: qtpy in /usr/local/lib/python3.7/dist-packages (from qtconsole->jupyter>=1->hdijupyterutils>=0.6->sparkmagic) (1.9.0)\n",
            "Requirement already satisfied: webencodings in /usr/local/lib/python3.7/dist-packages (from bleach->nbconvert->notebook>=4.2->sparkmagic) (0.5.1)\n",
            "Requirement already satisfied: packaging in /usr/local/lib/python3.7/dist-packages (from bleach->nbconvert->notebook>=4.2->sparkmagic) (20.9)\n",
            "Requirement already satisfied: pycparser in /usr/local/lib/python3.7/dist-packages (from cffi>=1.12->cryptography>=1.3; python_version != \"3.3\"->requests_kerberos>=0.8.0->sparkmagic) (2.20)\n",
            "Requirement already satisfied: pyparsing>=2.0.2 in /usr/local/lib/python3.7/dist-packages (from packaging->bleach->nbconvert->notebook>=4.2->sparkmagic) (2.4.7)\n",
            "Building wheels for collected packages: sparkmagic, hdijupyterutils, autovizwidget, pykerberos\n",
            "  Building wheel for sparkmagic (setup.py) ... \u001b[?25l\u001b[?25hdone\n",
            "  Created wheel for sparkmagic: filename=sparkmagic-0.18.0-cp37-none-any.whl size=61281 sha256=97059147b6d994e7d1d0badd673eb61e928bd3b48765ee93d67b25e36ae56c80\n",
            "  Stored in directory: /root/.cache/pip/wheels/ab/0b/dd/a6074710131570ad8b37f57aef6cad7c71887b068fe3ca686b\n",
            "  Building wheel for hdijupyterutils (setup.py) ... \u001b[?25l\u001b[?25hdone\n",
            "  Created wheel for hdijupyterutils: filename=hdijupyterutils-0.18.0-cp37-none-any.whl size=7699 sha256=2ab64bddec008742fe4ca7c56f3697c41843f73454158ff7d96bab305864cdda\n",
            "  Stored in directory: /root/.cache/pip/wheels/d7/e3/9a/023c18992db3e0a69f8293276970d10bb96aaffe1346266569\n",
            "  Building wheel for autovizwidget (setup.py) ... \u001b[?25l\u001b[?25hdone\n",
            "  Created wheel for autovizwidget: filename=autovizwidget-0.18.0-cp37-none-any.whl size=14549 sha256=2e64b17b424d75675f8d18827ac1e975d6ae5a84e2528e0c4f87aa701400787a\n",
            "  Stored in directory: /root/.cache/pip/wheels/d8/e0/25/f2096a21bb29a037da701139f60745bd58ab11847da8a0b20b\n",
            "  Building wheel for pykerberos (setup.py) ... \u001b[?25l\u001b[?25hdone\n",
            "  Created wheel for pykerberos: filename=pykerberos-1.2.1-cp37-cp37m-linux_x86_64.whl size=71486 sha256=1f8b03350bd0f8a22b977e65335e782e4a0b73e9a2bb2d259a06ab6ad4e2297a\n",
            "  Stored in directory: /root/.cache/pip/wheels/c7/a7/07/d414c22754acf5822ccce48b41822142974ec103057c8305e7\n",
            "Successfully built sparkmagic hdijupyterutils autovizwidget pykerberos\n",
            "Installing collected packages: nose, mock, hdijupyterutils, autovizwidget, pykerberos, cryptography, requests-kerberos, sparkmagic\n",
            "Successfully installed autovizwidget-0.18.0 cryptography-3.4.6 hdijupyterutils-0.18.0 mock-4.0.3 nose-1.3.7 pykerberos-1.2.1 requests-kerberos-0.12.0 sparkmagic-0.18.0\n",
            "Collecting pyspark\n",
            "\u001b[?25l  Downloading https://files.pythonhosted.org/packages/27/67/5158f846202d7f012d1c9ca21c3549a58fd3c6707ae8ee823adcaca6473c/pyspark-3.0.2.tar.gz (204.8MB)\n",
            "\u001b[K     |████████████████████████████████| 204.8MB 78kB/s \n",
            "\u001b[?25hCollecting py4j==0.10.9\n",
            "\u001b[?25l  Downloading https://files.pythonhosted.org/packages/9e/b6/6a4fb90cd235dc8e265a6a2067f2a2c99f0d91787f06aca4bcf7c23f3f80/py4j-0.10.9-py2.py3-none-any.whl (198kB)\n",
            "\u001b[K     |████████████████████████████████| 204kB 20.1MB/s \n",
            "\u001b[?25hBuilding wheels for collected packages: pyspark\n",
            "  Building wheel for pyspark (setup.py) ... \u001b[?25l\u001b[?25hdone\n",
            "  Created wheel for pyspark: filename=pyspark-3.0.2-py2.py3-none-any.whl size=205186687 sha256=c7ceec22d9e5de777f549418b22d8030f73c27537786ab759cebde072d9bbbc6\n",
            "  Stored in directory: /root/.cache/pip/wheels/8b/09/da/c1f2859bcc86375dc972c5b6af4881b3603269bcc4c9be5d16\n",
            "Successfully built pyspark\n",
            "Installing collected packages: py4j, pyspark\n",
            "Successfully installed py4j-0.10.9 pyspark-3.0.2\n",
            "Requirement already satisfied: pyspark in /usr/local/lib/python3.7/dist-packages (3.0.2)\n",
            "Requirement already satisfied: py4j==0.10.9 in /usr/local/lib/python3.7/dist-packages (from pyspark) (0.10.9)\n",
            "Requirement already satisfied: seaborn in /usr/local/lib/python3.7/dist-packages (0.11.1)\n",
            "Requirement already satisfied: numpy>=1.15 in /usr/local/lib/python3.7/dist-packages (from seaborn) (1.19.5)\n",
            "Requirement already satisfied: scipy>=1.0 in /usr/local/lib/python3.7/dist-packages (from seaborn) (1.4.1)\n",
            "Requirement already satisfied: pandas>=0.23 in /usr/local/lib/python3.7/dist-packages (from seaborn) (1.0.5)\n",
            "Requirement already satisfied: matplotlib>=2.2 in /usr/local/lib/python3.7/dist-packages (from seaborn) (3.2.2)\n",
            "Requirement already satisfied: python-dateutil>=2.6.1 in /usr/local/lib/python3.7/dist-packages (from pandas>=0.23->seaborn) (2.8.1)\n",
            "Requirement already satisfied: pytz>=2017.2 in /usr/local/lib/python3.7/dist-packages (from pandas>=0.23->seaborn) (2018.9)\n",
            "Requirement already satisfied: pyparsing!=2.0.4,!=2.1.2,!=2.1.6,>=2.0.1 in /usr/local/lib/python3.7/dist-packages (from matplotlib>=2.2->seaborn) (2.4.7)\n",
            "Requirement already satisfied: kiwisolver>=1.0.1 in /usr/local/lib/python3.7/dist-packages (from matplotlib>=2.2->seaborn) (1.3.1)\n",
            "Requirement already satisfied: cycler>=0.10 in /usr/local/lib/python3.7/dist-packages (from matplotlib>=2.2->seaborn) (0.10.0)\n",
            "Requirement already satisfied: six>=1.5 in /usr/local/lib/python3.7/dist-packages (from python-dateutil>=2.6.1->pandas>=0.23->seaborn) (1.15.0)\n",
            "Requirement already satisfied: plotly in /usr/local/lib/python3.7/dist-packages (4.4.1)\n",
            "Requirement already satisfied: six in /usr/local/lib/python3.7/dist-packages (from plotly) (1.15.0)\n",
            "Requirement already satisfied: retrying>=1.3.3 in /usr/local/lib/python3.7/dist-packages (from plotly) (1.3.3)\n",
            "Requirement already satisfied: imageio in /usr/local/lib/python3.7/dist-packages (2.4.1)\n",
            "Requirement already satisfied: numpy in /usr/local/lib/python3.7/dist-packages (from imageio) (1.19.5)\n",
            "Requirement already satisfied: pillow in /usr/local/lib/python3.7/dist-packages (from imageio) (7.0.0)\n",
            "Requirement already satisfied: folium in /usr/local/lib/python3.7/dist-packages (0.8.3)\n",
            "Requirement already satisfied: numpy in /usr/local/lib/python3.7/dist-packages (from folium) (1.19.5)\n",
            "Requirement already satisfied: requests in /usr/local/lib/python3.7/dist-packages (from folium) (2.23.0)\n",
            "Requirement already satisfied: six in /usr/local/lib/python3.7/dist-packages (from folium) (1.15.0)\n",
            "Requirement already satisfied: branca>=0.3.0 in /usr/local/lib/python3.7/dist-packages (from folium) (0.4.2)\n",
            "Requirement already satisfied: jinja2 in /usr/local/lib/python3.7/dist-packages (from folium) (2.11.3)\n",
            "Requirement already satisfied: urllib3!=1.25.0,!=1.25.1,<1.26,>=1.21.1 in /usr/local/lib/python3.7/dist-packages (from requests->folium) (1.24.3)\n",
            "Requirement already satisfied: idna<3,>=2.5 in /usr/local/lib/python3.7/dist-packages (from requests->folium) (2.10)\n",
            "Requirement already satisfied: chardet<4,>=3.0.2 in /usr/local/lib/python3.7/dist-packages (from requests->folium) (3.0.4)\n",
            "Requirement already satisfied: certifi>=2017.4.17 in /usr/local/lib/python3.7/dist-packages (from requests->folium) (2020.12.5)\n",
            "Requirement already satisfied: MarkupSafe>=0.23 in /usr/local/lib/python3.7/dist-packages (from jinja2->folium) (1.1.1)\n"
          ],
          "name": "stdout"
        }
      ]
    },
    {
      "cell_type": "code",
      "metadata": {
        "id": "pNctzcXRkexY",
        "colab": {
          "base_uri": "https://localhost:8080/"
        },
        "outputId": "29c7b67b-5e8d-4265-ff5f-6f0bb409db9c"
      },
      "source": [
        "!apt update\n",
        "!apt install gcc python-dev libkrb5-dev"
      ],
      "execution_count": 78,
      "outputs": [
        {
          "output_type": "stream",
          "text": [
            "\u001b[33m\r0% [Working]\u001b[0m\r            \rGet:1 https://cloud.r-project.org/bin/linux/ubuntu bionic-cran40/ InRelease [3,626 B]\n",
            "\u001b[33m\r0% [Connecting to archive.ubuntu.com] [Connecting to security.ubuntu.com (91.18\u001b[0m\u001b[33m\r0% [Connecting to archive.ubuntu.com] [Connecting to security.ubuntu.com (91.18\u001b[0m\u001b[33m\r0% [1 InRelease gpgv 3,626 B] [Connecting to archive.ubuntu.com] [Connecting to\u001b[0m\r                                                                               \rIgn:2 https://developer.download.nvidia.com/compute/cuda/repos/ubuntu1804/x86_64  InRelease\n",
            "\u001b[33m\r0% [1 InRelease gpgv 3,626 B] [Connecting to archive.ubuntu.com (91.189.88.142)\u001b[0m\r                                                                               \rGet:3 http://security.ubuntu.com/ubuntu bionic-security InRelease [88.7 kB]\n",
            "\u001b[33m\r0% [1 InRelease gpgv 3,626 B] [Connecting to archive.ubuntu.com (91.189.88.142)\u001b[0m\r                                                                               \rIgn:4 https://developer.download.nvidia.com/compute/machine-learning/repos/ubuntu1804/x86_64  InRelease\n",
            "\u001b[33m\r0% [1 InRelease gpgv 3,626 B] [Waiting for headers] [3 InRelease 14.2 kB/88.7 k\u001b[0m\r                                                                               \rHit:5 https://developer.download.nvidia.com/compute/cuda/repos/ubuntu1804/x86_64  Release\n",
            "Hit:6 https://developer.download.nvidia.com/compute/machine-learning/repos/ubuntu1804/x86_64  Release\n",
            "Get:7 http://ppa.launchpad.net/c2d4u.team/c2d4u4.0+/ubuntu bionic InRelease [15.9 kB]\n",
            "Hit:8 http://archive.ubuntu.com/ubuntu bionic InRelease\n",
            "Get:9 http://archive.ubuntu.com/ubuntu bionic-updates InRelease [88.7 kB]\n",
            "Hit:11 http://ppa.launchpad.net/cran/libgit2/ubuntu bionic InRelease\n",
            "Get:13 http://archive.ubuntu.com/ubuntu bionic-backports InRelease [74.6 kB]\n",
            "Hit:14 http://ppa.launchpad.net/deadsnakes/ppa/ubuntu bionic InRelease\n",
            "Hit:15 http://ppa.launchpad.net/graphics-drivers/ppa/ubuntu bionic InRelease\n",
            "Get:16 http://ppa.launchpad.net/c2d4u.team/c2d4u4.0+/ubuntu bionic/main Sources [1,738 kB]\n",
            "Get:17 http://security.ubuntu.com/ubuntu bionic-security/multiverse amd64 Packages [43.5 kB]\n",
            "Get:18 http://security.ubuntu.com/ubuntu bionic-security/restricted amd64 Packages [304 kB]\n",
            "Get:19 http://security.ubuntu.com/ubuntu bionic-security/main amd64 Packages [1,964 kB]\n",
            "Get:20 http://archive.ubuntu.com/ubuntu bionic-updates/main amd64 Packages [2,395 kB]\n",
            "Get:21 http://security.ubuntu.com/ubuntu bionic-security/universe amd64 Packages [1,392 kB]\n",
            "Get:22 http://ppa.launchpad.net/c2d4u.team/c2d4u4.0+/ubuntu bionic/main amd64 Packages [889 kB]\n",
            "Get:23 http://archive.ubuntu.com/ubuntu bionic-updates/multiverse amd64 Packages [50.5 kB]\n",
            "Get:24 http://archive.ubuntu.com/ubuntu bionic-updates/restricted amd64 Packages [334 kB]\n",
            "Get:25 http://archive.ubuntu.com/ubuntu bionic-updates/universe amd64 Packages [2,163 kB]\n",
            "Fetched 11.5 MB in 2s (4,701 kB/s)\n",
            "Reading package lists... Done\n",
            "Building dependency tree       \n",
            "Reading state information... Done\n",
            "29 packages can be upgraded. Run 'apt list --upgradable' to see them.\n",
            "Reading package lists... Done\n",
            "Building dependency tree       \n",
            "Reading state information... Done\n",
            "python-dev is already the newest version (2.7.15~rc1-1).\n",
            "gcc is already the newest version (4:7.4.0-1ubuntu2.3).\n",
            "gcc set to manually installed.\n",
            "libkrb5-dev is already the newest version (1.16-2ubuntu0.2).\n",
            "0 upgraded, 0 newly installed, 0 to remove and 29 not upgraded.\n"
          ],
          "name": "stdout"
        }
      ]
    },
    {
      "cell_type": "code",
      "metadata": {
        "id": "PP28kxLekWG7"
      },
      "source": [
        "from pyspark.sql import SparkSession\n",
        "from pyspark.sql.types import *\n",
        "import pyspark.sql.functions as F\n",
        "\n",
        "import os\n",
        "\n",
        "spark = SparkSession.builder.appName('CA-5').getOrCreate()\n"
      ],
      "execution_count": 79,
      "outputs": []
    },
    {
      "cell_type": "code",
      "metadata": {
        "id": "7Gm6aXPq1Ulc"
      },
      "source": [
        "%load_ext sparkmagic.magics"
      ],
      "execution_count": 80,
      "outputs": []
    },
    {
      "cell_type": "code",
      "metadata": {
        "id": "NiGROEgu1gfN"
      },
      "source": [
        "#graph section\n",
        "import networkx as nx\n",
        "# SQLite RDBMS\n",
        "import sqlite3\n",
        "# Parallel processing\n",
        "# import swifter\n",
        "import pandas as pd\n",
        "# NoSQL DB\n",
        "from pymongo import MongoClient\n",
        "from pymongo.errors import DuplicateKeyError, OperationFailure\n",
        "\n",
        "import os\n",
        "#os.environ['SPARK_HOME'] = '/content/spark-2.4.5-bin-hadoop2.7'\n",
        "os.environ['SPARK_HOME'] = '/content/spark-3.0.2-bin-hadoop3.2'\n",
        "\n",
        "os.environ[\"JAVA_HOME\"] = \"/usr/lib/jvm/java-8-openjdk-amd64\"\n",
        "import pyspark\n",
        "from pyspark.sql import SQLContext"
      ],
      "execution_count": 81,
      "outputs": []
    },
    {
      "cell_type": "code",
      "metadata": {
        "id": "bF0xipwC1hme"
      },
      "source": [
        "try:\n",
        "    if(spark == None):\n",
        "        spark = SparkSession.builder.appName('Initial').getOrCreate()\n",
        "        sqlContext=SQLContext(spark)\n",
        "except NameError:\n",
        "    spark = SparkSession.builder.appName('Initial').getOrCreate()\n",
        "    sqlContext=SQLContext(spark)"
      ],
      "execution_count": 82,
      "outputs": []
    },
    {
      "cell_type": "markdown",
      "metadata": {
        "id": "cbj7zOGQW7A2"
      },
      "source": [
        "### 5.1 Data Preparation for Spark ML (20 points)\n",
        "\n",
        "Once the spark setup ready. Next, we need the prepared data for our ML algorithms. We will use the same data you processed in Section 1 but now in spark. \n",
        "\n",
        "Read in the csv  into a spark dataframe. Set the \"inferSchema\" flag to True so that the columns are the correct datatypes and not all strings. Further, set the parameter to the first row as column headers."
      ]
    },
    {
      "cell_type": "code",
      "metadata": {
        "id": "EFfs7q3P1KHX"
      },
      "source": [
        "# Add your code here\n",
        "schema = \"\"\" `id`  String, \n",
        "`comments_disabled`  Boolean, \n",
        "`ratings_disabled`  Boolean, \n",
        "`video_error_or_removed`  Boolean, \n",
        "`likes_log`  FLOAT, \n",
        "`label`  FLOAT, \n",
        "`dislikes_log`  FLOAT, \n",
        "`comment_log`  FLOAT, \n",
        "`num_tags`  INT, \n",
        "`desc_len`  INT, \n",
        "`len_title`  INT, \n",
        "`publish_weekday_1`  INT, \n",
        "`publish_weekday_2`  INT, \n",
        "`publish_weekday_3`  INT, \n",
        "`publish_weekday_4`  INT, \n",
        "`publish_weekday_5`  INT, \n",
        "`publish_weekday_6`  INT, \n",
        "`publish_weekday_7`  INT, \n",
        "`country_CA`  INT, \n",
        "`country_FR`  INT, \n",
        "`country_IN`  INT, \n",
        "`country_US`  INT,\n",
        "`category_id_CA`  INT, \n",
        "`category_id_FR`  INT, \n",
        "`category_id_IN`  INT, \n",
        "`category_id_US`  INT\n",
        " \"\"\" \n",
        "train_sdf = spark.read.format(\"csv\").option(\"header\", \"true\").\\\n",
        "  load(\"/content/combined_data.csv\", schema=schema)"
      ],
      "execution_count": 169,
      "outputs": []
    },
    {
      "cell_type": "markdown",
      "metadata": {
        "id": "CbC1qlzhXd6L"
      },
      "source": [
        "Let us make sure everything is smooth to proceed"
      ]
    },
    {
      "cell_type": "code",
      "metadata": {
        "id": "sTb1GN4-1EXc",
        "colab": {
          "base_uri": "https://localhost:8080/"
        },
        "outputId": "d850eb53-4944-40d4-f84d-8aa8ab272fc0"
      },
      "source": [
        "train_sdf.show()"
      ],
      "execution_count": 170,
      "outputs": [
        {
          "output_type": "stream",
          "text": [
            "+---+-----------------+----------------+----------------------+----------+---------+------------+-----------+--------+--------+---------+-----------------+-----------------+-----------------+-----------------+-----------------+-----------------+-----------------+----------+----------+----------+----------+--------------+--------------+--------------+--------------+\n",
            "| id|comments_disabled|ratings_disabled|video_error_or_removed| likes_log|    label|dislikes_log|comment_log|num_tags|desc_len|len_title|publish_weekday_1|publish_weekday_2|publish_weekday_3|publish_weekday_4|publish_weekday_5|publish_weekday_6|publish_weekday_7|country_CA|country_FR|country_IN|country_US|category_id_CA|category_id_FR|category_id_IN|category_id_US|\n",
            "+---+-----------------+----------------+----------------------+----------+---------+------------+-----------+--------+--------+---------+-----------------+-----------------+-----------------+-----------------+-----------------+-----------------+-----------------+----------+----------+----------+----------+--------------+--------------+--------------+--------------+\n",
            "|  0|            false|           false|                 false| 10.433145|13.907477|    6.683361|   6.783325|      15|     920|       81|                0|                0|                0|                0|                0|                0|                1|         0|         0|         1|         0|             0|             0|             1|             0|\n",
            "|  1|             true|           false|                 false|   6.60123|13.288051|   6.8079348|        0.0|      19|    2232|       58|                1|                0|                0|                0|                0|                0|                0|         0|         0|         1|         0|             0|             0|             1|             0|\n",
            "|  2|            false|           false|                 false| 7.6068845|13.068939|    5.497168|  5.0106354|      14|     482|       58|                0|                0|                0|                0|                0|                0|                1|         0|         0|         1|         0|             0|             0|             1|             0|\n",
            "|  3|            false|           false|                 false| 11.161295|14.032782|    7.393263|   7.895436|      20|     263|       30|                0|                0|                0|                0|                0|                0|                1|         0|         0|         1|         0|             0|             0|             1|             0|\n",
            "|  4|            false|           false|                 false|  6.200509|13.047674|     5.68358|   4.204693|      11|     753|       88|                1|                0|                0|                0|                0|                0|                0|         0|         0|         1|         0|             0|             0|             1|             0|\n",
            "|  5|            false|           false|                 false| 11.498959|15.624892|      8.3395|  8.4688425|      22|     449|       91|                0|                0|                0|                0|                1|                0|                0|         0|         0|         1|         0|             0|             0|             1|             0|\n",
            "|  6|            false|           false|                 false| 11.755699|15.559264|    8.872767|   8.995165|      18|    1411|       96|                0|                0|                0|                0|                0|                1|                0|         0|         0|         1|         0|             0|             0|             1|             0|\n",
            "|  7|            false|           false|                 false|  11.79614|16.175266|    9.083983|   9.291736|      26|    1299|       96|                0|                0|                0|                0|                0|                1|                0|         0|         0|         1|         0|             0|             0|             1|             0|\n",
            "|  8|            false|           false|                 false|   6.25575|11.680336|    3.988984|  3.1780539|      21|     509|       97|                1|                0|                0|                0|                0|                0|                0|         0|         0|         1|         0|             0|             0|             1|             0|\n",
            "|  9|            false|           false|                 false| 10.998744|13.784052|    7.343426|   7.785305|      23|     477|       34|                0|                0|                0|                0|                0|                0|                1|         0|         0|         1|         0|             0|             0|             1|             0|\n",
            "| 10|            false|           false|                 false|  8.373553|13.357827|   7.6889133|   7.962067|      23|      99|       78|                0|                0|                0|                0|                0|                0|                1|         0|         0|         1|         0|             0|             0|             1|             0|\n",
            "| 11|            false|           false|                 false|  10.39925|14.669121|   6.5666723|   7.463937|      22|    2093|       83|                0|                0|                0|                0|                0|                1|                0|         0|         0|         1|         0|             0|             0|             1|             0|\n",
            "| 12|             true|           false|                 false| 6.5750756|11.958162|    3.988984|        0.0|      20|     858|       85|                1|                0|                0|                0|                0|                0|                0|         0|         0|         1|         0|             0|             0|             1|             0|\n",
            "| 13|            false|           false|                 false| 7.8678713|13.065611|    5.525453|   5.164786|      12|    1351|       92|                0|                0|                0|                0|                0|                1|                0|         0|         0|         1|         0|             0|             0|             1|             0|\n",
            "| 14|            false|           false|                 false|10.1048355|13.636393|    5.198497|  6.3885612|      25|    2387|       88|                0|                0|                0|                0|                0|                0|                1|         0|         0|         1|         0|             0|             0|             1|             0|\n",
            "| 15|            false|           false|                 false| 5.4764633|11.402351|   4.0943446|   2.944439|      28|     171|       85|                1|                0|                0|                0|                0|                0|                0|         0|         0|         1|         0|             0|             0|             1|             0|\n",
            "| 16|            false|           false|                 false| 10.154946|12.749983|   6.0354815|  7.9624157|      11|     248|       35|                1|                0|                0|                0|                0|                0|                0|         0|         0|         1|         0|             0|             0|             1|             0|\n",
            "| 17|            false|           false|                 false| 13.628413|17.395851|   11.021837|  11.524043|      22|     901|       63|                0|                1|                0|                0|                0|                0|                0|         0|         0|         1|         0|             0|             0|             1|             0|\n",
            "| 18|            false|           false|                 false|  9.551871|12.252956|    6.107023|  7.0085053|      30|     201|       68|                0|                0|                0|                0|                0|                0|                1|         0|         0|         1|         0|             0|             0|             1|             0|\n",
            "| 19|            false|           false|                 false| 11.484403|14.698775|     8.72372|   9.449672|       4|     630|       62|                1|                0|                0|                0|                0|                0|                0|         0|         0|         1|         0|             0|             0|             1|             0|\n",
            "+---+-----------------+----------------+----------------------+----------+---------+------------+-----------+--------+--------+---------+-----------------+-----------------+-----------------+-----------------+-----------------+-----------------+-----------------+----------+----------+----------+----------+--------------+--------------+--------------+--------------+\n",
            "only showing top 20 rows\n",
            "\n"
          ],
          "name": "stdout"
        }
      ]
    },
    {
      "cell_type": "markdown",
      "metadata": {
        "id": "NFWmORJ8XhX_"
      },
      "source": [
        "Print out the dataframe schema and verify the datatypes"
      ]
    },
    {
      "cell_type": "code",
      "metadata": {
        "id": "22b4aWjueZuO",
        "colab": {
          "base_uri": "https://localhost:8080/"
        },
        "outputId": "477374ec-9f10-4785-aa52-8b07ee843019"
      },
      "source": [
        "#Task: Print the dataframe schema and verify\n",
        "# Add your code here\n",
        "train_sdf.printSchema()"
      ],
      "execution_count": 171,
      "outputs": [
        {
          "output_type": "stream",
          "text": [
            "root\n",
            " |-- id: string (nullable = true)\n",
            " |-- comments_disabled: boolean (nullable = true)\n",
            " |-- ratings_disabled: boolean (nullable = true)\n",
            " |-- video_error_or_removed: boolean (nullable = true)\n",
            " |-- likes_log: float (nullable = true)\n",
            " |-- label: float (nullable = true)\n",
            " |-- dislikes_log: float (nullable = true)\n",
            " |-- comment_log: float (nullable = true)\n",
            " |-- num_tags: integer (nullable = true)\n",
            " |-- desc_len: integer (nullable = true)\n",
            " |-- len_title: integer (nullable = true)\n",
            " |-- publish_weekday_1: integer (nullable = true)\n",
            " |-- publish_weekday_2: integer (nullable = true)\n",
            " |-- publish_weekday_3: integer (nullable = true)\n",
            " |-- publish_weekday_4: integer (nullable = true)\n",
            " |-- publish_weekday_5: integer (nullable = true)\n",
            " |-- publish_weekday_6: integer (nullable = true)\n",
            " |-- publish_weekday_7: integer (nullable = true)\n",
            " |-- country_CA: integer (nullable = true)\n",
            " |-- country_FR: integer (nullable = true)\n",
            " |-- country_IN: integer (nullable = true)\n",
            " |-- country_US: integer (nullable = true)\n",
            " |-- category_id_CA: integer (nullable = true)\n",
            " |-- category_id_FR: integer (nullable = true)\n",
            " |-- category_id_IN: integer (nullable = true)\n",
            " |-- category_id_US: integer (nullable = true)\n",
            "\n"
          ],
          "name": "stdout"
        }
      ]
    },
    {
      "cell_type": "markdown",
      "metadata": {
        "id": "fJ34pkSeXn3G"
      },
      "source": [
        "Now, we have the processed data in hand. Next for the Spark ML, we need to create a feature column that has all features concatenated and a single column for labels.\n",
        "\n",
        "You can use VectorAssembler() to create a feature vector from all categorical and numerical features. Let us call the call the final vector as “features”.\n",
        "\n",
        "Now, list all columns in the data and store it in a list named 'all_columns'\n"
      ]
    },
    {
      "cell_type": "code",
      "metadata": {
        "id": "HwWWc_0Ttyg4"
      },
      "source": [
        "from pyspark.ml.feature import StringIndexer, VectorAssembler"
      ],
      "execution_count": 91,
      "outputs": []
    },
    {
      "cell_type": "code",
      "metadata": {
        "id": "XIcLnx7bt7Q8"
      },
      "source": [
        "# Add your code here\n",
        "all_columns = [\n",
        "'id',\n",
        "'comments_disabled',\n",
        "'ratings_disabled',\n",
        "'video_error_or_removed',\n",
        "'likes_log',\n",
        "'label',\n",
        "'dislikes_log',\n",
        "'comment_log',\n",
        "'num_tags',\n",
        "'desc_len',\n",
        "'len_title',\n",
        "'publish_weekday_1',\n",
        "'publish_weekday_2',\n",
        "'publish_weekday_3',\n",
        "'publish_weekday_4',\n",
        "'publish_weekday_5',\n",
        "'publish_weekday_6',\n",
        "'publish_weekday_7',\n",
        "'country_CA',\n",
        "'country_FR',\n",
        "'country_IN',\n",
        "'country_US',\n",
        "'category_id_CA', \n",
        "'category_id_FR', \n",
        "'category_id_IN', \n",
        "'category_id_US'\n",
        "]# Task"
      ],
      "execution_count": 172,
      "outputs": []
    },
    {
      "cell_type": "markdown",
      "metadata": {
        "id": "BqiuAgWxh2yv"
      },
      "source": [
        "Now create a list of columns which you don't wan't to include in your features, i.e., the labels and probably other columns which are not useful for the machine learning model. Let us call this list drop_columns."
      ]
    },
    {
      "cell_type": "code",
      "metadata": {
        "id": "B-_2Tsy5uzIo"
      },
      "source": [
        "# Add your code here\n",
        "drop_columns = ['id','label']# Task"
      ],
      "execution_count": 173,
      "outputs": []
    },
    {
      "cell_type": "code",
      "metadata": {
        "id": "GWgiDQuciHKt"
      },
      "source": [
        "columns_to_use = [i for i in all_columns if i not in drop_columns]"
      ],
      "execution_count": 174,
      "outputs": []
    },
    {
      "cell_type": "markdown",
      "metadata": {
        "id": "V4kOg6TWiOcm"
      },
      "source": [
        "Now create a VectorAssembler object with columns you want to use for the ML models. Let us Name the output column as 'features'. These are the features that you will use later.  Let us name the vector assembler object 'assembler'"
      ]
    },
    {
      "cell_type": "code",
      "metadata": {
        "id": "cPl796SvpvoU"
      },
      "source": [
        "# Add your code\n",
        "features = \"features\" \n",
        "assembler = VectorAssembler(inputCols = columns_to_use, outputCol = features)"
      ],
      "execution_count": 175,
      "outputs": []
    },
    {
      "cell_type": "code",
      "metadata": {
        "id": "5LlUa9NRQMOT",
        "colab": {
          "base_uri": "https://localhost:8080/"
        },
        "outputId": "c4f9db35-5137-42c3-cacf-3797bfe75008"
      },
      "source": [
        "# Print assember stats\n",
        "print('stat_assembler', (str(assembler.params), columns_to_use))"
      ],
      "execution_count": 176,
      "outputs": [
        {
          "output_type": "stream",
          "text": [
            "stat_assembler ('[Param(parent=\\'VectorAssembler_6b7a5d3459e6\\', name=\\'handleInvalid\\', doc=\"How to handle invalid data (NULL and NaN values). Options are \\'skip\\' (filter out rows with invalid data), \\'error\\' (throw an error), or \\'keep\\' (return relevant number of NaN in the output). Column lengths are taken from the size of ML Attribute Group, which can be set using `VectorSizeHint` in a pipeline before `VectorAssembler`. Column lengths can also be inferred from first rows of the data since it is safe to do so but only in case of \\'error\\' or \\'skip\\').\"), Param(parent=\\'VectorAssembler_6b7a5d3459e6\\', name=\\'inputCols\\', doc=\\'input column names.\\'), Param(parent=\\'VectorAssembler_6b7a5d3459e6\\', name=\\'outputCol\\', doc=\\'output column name.\\')]', ['comments_disabled', 'ratings_disabled', 'video_error_or_removed', 'likes_log', 'dislikes_log', 'comment_log', 'num_tags', 'desc_len', 'len_title', 'publish_weekday_1', 'publish_weekday_2', 'publish_weekday_3', 'publish_weekday_4', 'publish_weekday_5', 'publish_weekday_6', 'publish_weekday_7', 'country_CA', 'country_FR', 'country_IN', 'country_US', 'category_id_CA', 'category_id_FR', 'category_id_IN', 'category_id_US'])\n"
          ],
          "name": "stdout"
        }
      ]
    },
    {
      "cell_type": "markdown",
      "metadata": {
        "id": "X7_HC7cTif1k"
      },
      "source": [
        "Now, we are ready to create a pipeline with different stages.  For out data so far, we just a single stage with the assember, however, you could have other stages  before that where you perform operations on the data, e.g, transforming categorical strings to numeric values or feature scaling operations.\n",
        "\n",
        "In this step, we will create a pipeline with a single stage - the assembler. Fit the pipeline to your data and create the transformed dataframe and name it 'modified_data_sdf'."
      ]
    },
    {
      "cell_type": "code",
      "metadata": {
        "id": "iuO1Mu9IvTEz"
      },
      "source": [
        "from pyspark.ml import Pipeline\n",
        "# Add your code here\n",
        "# pipeline\n",
        "modified_data_sdf = Pipeline(stages=[assembler]).fit(train_sdf).transform(train_sdf)"
      ],
      "execution_count": 177,
      "outputs": []
    },
    {
      "cell_type": "code",
      "metadata": {
        "id": "KwlFEWKwXbRd",
        "colab": {
          "base_uri": "https://localhost:8080/"
        },
        "outputId": "e04e8b4b-6081-4686-b4bd-4a6679f6c2a6"
      },
      "source": [
        "#Print results\n",
        "pipeline_stat = pd.DataFrame(modified_data_sdf.take(5), columns=modified_data_sdf.columns)\n",
        "print('check_pipeline', (pipeline_stat.columns.values, pipeline_stat['features'][0].size))"
      ],
      "execution_count": 178,
      "outputs": [
        {
          "output_type": "stream",
          "text": [
            "check_pipeline (array(['id', 'comments_disabled', 'ratings_disabled',\n",
            "       'video_error_or_removed', 'likes_log', 'label', 'dislikes_log',\n",
            "       'comment_log', 'num_tags', 'desc_len', 'len_title',\n",
            "       'publish_weekday_1', 'publish_weekday_2', 'publish_weekday_3',\n",
            "       'publish_weekday_4', 'publish_weekday_5', 'publish_weekday_6',\n",
            "       'publish_weekday_7', 'country_CA', 'country_FR', 'country_IN',\n",
            "       'country_US', 'category_id_CA', 'category_id_FR', 'category_id_IN',\n",
            "       'category_id_US', 'features'], dtype=object), 24)\n"
          ],
          "name": "stdout"
        }
      ]
    },
    {
      "cell_type": "markdown",
      "metadata": {
        "id": "0TKEQEDkxFGf"
      },
      "source": [
        "Now that we have the required data in the right format, Let us create our train and test sets. Let us, split into an 80-20 ratio between the train and test sets. Name these 'train_sdf' and 'test_sdf'"
      ]
    },
    {
      "cell_type": "code",
      "metadata": {
        "id": "Jn4_0RHHxEYm"
      },
      "source": [
        "# Add your code here\n",
        "#split into an 80-20 ratio between the train and test sets\n",
        "train_sdf, test_sdf = modified_data_sdf.randomSplit([0.8, 0.2], seed=42)"
      ],
      "execution_count": 179,
      "outputs": []
    },
    {
      "cell_type": "code",
      "metadata": {
        "id": "TkvrG1lMbe9_",
        "colab": {
          "base_uri": "https://localhost:8080/"
        },
        "outputId": "b0b38284-6695-4d60-96a1-c7019360b107"
      },
      "source": [
        "#Print results here\n",
        "print('check_split', (train_sdf.count(), test_sdf.count()))"
      ],
      "execution_count": 180,
      "outputs": [
        {
          "output_type": "stream",
          "text": [
            "check_split (123600, 30967)\n"
          ],
          "name": "stdout"
        }
      ]
    },
    {
      "cell_type": "markdown",
      "metadata": {
        "id": "L_CKE8i8an4x"
      },
      "source": [
        "### 5.2 Linear regression using Spark ML (15 points)\n",
        "\n",
        "In this section, train s linear regression model to our data and predict the views. This prediction should be based on \"Big\" data tools, i.e., Spark ML's linear regression. Create a model using this library, fit the training data. \n",
        "Afterwards, print the summary stats of the model, i.e, \n",
        "- the RMSE error, R2 score and any other information you find useful. Refere the Spark ML documentation online for the implementation.\n",
        "\n",
        "In this section, we will train the model without any regularization!"
      ]
    },
    {
      "cell_type": "code",
      "metadata": {
        "id": "W9qJdpIU4e8q",
        "colab": {
          "base_uri": "https://localhost:8080/"
        },
        "outputId": "95ee326c-a7cb-4add-e398-1b7e04c32343"
      },
      "source": [
        "from pyspark.ml.regression import LinearRegression\n",
        "#without any regularization\n",
        "lr = LinearRegression(featuresCol = 'features', \\\n",
        "                      labelCol='label', maxIter=10, \\\n",
        "                      regParam=0.0, \\\n",
        "                      elasticNetParam=0.0)\n",
        "lr_model = lr.fit(train_sdf)\n",
        "#indicate the  linear correlation\n",
        "print(\"coefficients:\" + str(lr_model.coefficients))"
      ],
      "execution_count": 194,
      "outputs": [
        {
          "output_type": "stream",
          "text": [
            "coefficients:[-0.3955752249319458,4.782700460524481,0.3461937262329554,0.306447820315562,0.5896651524229387,-0.07253265636764095,0.0008263454763890552,-3.100281176012053e-05,0.0044598068833586685,0.010147541210376162,0.03125454800870762,0.018358170043091267,-0.007967205888520108,0.0014121011818837954,-0.03238869981622788,-0.029331961881603957,0.08076435770113012,-0.19476437352088852,0.03355462057404702,0.07556169244891167,0.08076435770113012,-0.19476437352088852,0.03355462057404702,0.07556169244891167]\n"
          ],
          "name": "stdout"
        }
      ]
    },
    {
      "cell_type": "code",
      "metadata": {
        "colab": {
          "base_uri": "https://localhost:8080/"
        },
        "id": "M_n_gx3I-Icl",
        "outputId": "c64761e8-23e5-4d7a-80b8-33e87d2e263b"
      },
      "source": [
        "trainingSum = lr_model.summary\n",
        "print(\"RMSE: %f\" % trainingSum.rootMeanSquaredError)\n",
        "print(\"r2: %f\" % trainingSum.r2)"
      ],
      "execution_count": 195,
      "outputs": [
        {
          "output_type": "stream",
          "text": [
            "RMSE: 0.690631\n",
            "r2: 0.855569\n"
          ],
          "name": "stdout"
        }
      ]
    },
    {
      "cell_type": "markdown",
      "metadata": {
        "id": "kJT9Ov_irnXl"
      },
      "source": [
        "Let us investigate that if the model actually overfits the training data. \r\n",
        "\r\n",
        "Predict the views for your test data (Note: it is called 'transform' in spark ml). Evaluate the performance using 'RegressionEvaluator' in the Spark ML Regression library. Name prediction column as 'prediction'."
      ]
    },
    {
      "cell_type": "code",
      "metadata": {
        "id": "3sE9kv3ZsU7J"
      },
      "source": [
        "# Add your code here\n",
        "from pyspark.ml.evaluation import RegressionEvaluator\n",
        "#predict test dataset #http://spark.apache.org/docs/latest/api/python/pyspark.ml.html\n",
        "predictions = lr_model.transform(test_sdf)"
      ],
      "execution_count": 196,
      "outputs": []
    },
    {
      "cell_type": "code",
      "metadata": {
        "id": "TlqLeWSDsd__"
      },
      "source": [
        "from pyspark.ml.evaluation import RegressionEvaluator\n",
        "\n",
        "# Task: Compute RMSr on the test set\n",
        "#http://spark.apache.org/docs/latest/api/python/pyspark.ml.html\n",
        "evaluator = RegressionEvaluator(labelCol=\"label\",\n",
        "                                predictionCol=\"prediction\",\n",
        "                                metricName=\"rmse\")\n",
        "test_rmse_orig = evaluator.evaluate(predictions)"
      ],
      "execution_count": 197,
      "outputs": []
    },
    {
      "cell_type": "code",
      "metadata": {
        "colab": {
          "base_uri": "https://localhost:8080/"
        },
        "id": "DuBHq2n8dCxs",
        "outputId": "f220bef0-d646-4abb-8e64-28d055388ec5"
      },
      "source": [
        "#Print results here\n",
        "predictions_to_print = predictions.toPandas()\n",
        "lranswer = [test_rmse_orig, predictions_to_print['prediction'][0:50], predictions_to_print['label'][0:50]]\n",
        "print('result_lr_test', lranswer)"
      ],
      "execution_count": 198,
      "outputs": [
        {
          "output_type": "stream",
          "text": [
            "result_lr_test [0.6936871100897959, 0     16.736454\n",
            "1     10.872384\n",
            "2     15.593422\n",
            "3     14.508008\n",
            "4     16.505480\n",
            "5     13.292430\n",
            "6     12.815557\n",
            "7     13.011958\n",
            "8     15.407471\n",
            "9     15.462189\n",
            "10    12.264815\n",
            "11    16.078931\n",
            "12    11.856386\n",
            "13    14.160777\n",
            "14    11.957857\n",
            "15    12.518177\n",
            "16    13.034222\n",
            "17    14.496647\n",
            "18    12.809872\n",
            "19    12.547549\n",
            "20    13.926458\n",
            "21    12.953426\n",
            "22    13.144465\n",
            "23    12.350405\n",
            "24    13.934896\n",
            "25    12.741265\n",
            "26    13.845550\n",
            "27     9.251796\n",
            "28    12.704285\n",
            "29    10.572560\n",
            "30    12.319960\n",
            "31    11.819612\n",
            "32    12.374791\n",
            "33    11.419548\n",
            "34    12.550627\n",
            "35    12.315586\n",
            "36    12.009628\n",
            "37    13.618305\n",
            "38    12.182007\n",
            "39    11.725698\n",
            "40    11.789417\n",
            "41    14.080427\n",
            "42    14.316313\n",
            "43    11.422548\n",
            "44    15.285752\n",
            "45    12.332417\n",
            "46    14.195429\n",
            "47    15.128831\n",
            "48    12.462732\n",
            "49    12.660241\n",
            "Name: prediction, dtype: float64, 0     16.658009\n",
            "1     11.306860\n",
            "2     15.438502\n",
            "3     15.364674\n",
            "4     16.040981\n",
            "5     13.639235\n",
            "6     12.830550\n",
            "7     12.971131\n",
            "8     16.095770\n",
            "9     14.900380\n",
            "10    10.747938\n",
            "11    14.980891\n",
            "12    11.779374\n",
            "13    14.815420\n",
            "14    11.519643\n",
            "15    11.751556\n",
            "16    12.890045\n",
            "17    13.907441\n",
            "18    12.812853\n",
            "19    12.717284\n",
            "20    14.084497\n",
            "21    14.055985\n",
            "22    13.966463\n",
            "23    11.866339\n",
            "24    13.512703\n",
            "25    12.793676\n",
            "26    13.265880\n",
            "27     9.715047\n",
            "28    12.590430\n",
            "29    10.748240\n",
            "30    12.144049\n",
            "31    12.031868\n",
            "32    11.705478\n",
            "33    12.055639\n",
            "34    12.674841\n",
            "35    12.182737\n",
            "36    12.204085\n",
            "37    14.242750\n",
            "38    11.062364\n",
            "39    11.367021\n",
            "40    12.039611\n",
            "41    13.986484\n",
            "42    14.110153\n",
            "43    11.860620\n",
            "44    15.137605\n",
            "45    11.185199\n",
            "46    14.097093\n",
            "47    15.140171\n",
            "48    12.375807\n",
            "49    12.784962\n",
            "Name: label, dtype: float32]\n"
          ],
          "name": "stdout"
        }
      ]
    },
    {
      "cell_type": "markdown",
      "metadata": {
        "id": "pgEkOUYUsi5D"
      },
      "source": [
        "Next, we will implement regularization to avoid overfitting. you can try different  regularization parameters, e.g., try LASSO (L1), Ridge (L2) and elastic net (combination of L1 and L2).\r\n",
        "\r\n",
        "You can try different regularization hyperparameters to initialize three different regularized linear regression models. Compare these regularization methods with each other and the non-regularized method above.\r\n"
      ]
    },
    {
      "cell_type": "code",
      "metadata": {
        "colab": {
          "base_uri": "https://localhost:8080/"
        },
        "id": "3Q7qRarRkpoQ",
        "outputId": "d72bffa0-5d2e-4394-98d3-60a8a89d4ac6"
      },
      "source": [
        "#tunning , find the best parameter\r\n",
        "from pyspark.ml.tuning import CrossValidator, ParamGridBuilder\r\n",
        "tmp_lr=LinearRegression(featuresCol='features',labelCol='label')\r\n",
        "paramGrid = ParamGridBuilder() \\\r\n",
        "    .addGrid(tmp_lr.regParam, [0, 0.01, 0.05, 0.1, 0.5, 1]) \\\r\n",
        "    .addGrid(tmp_lr.elasticNetParam, [0.0, 0.1, 0.5, 0.8, 1]) \\\r\n",
        "    .build()\r\n",
        "cv = CrossValidator(estimator=tmp_lr, estimatorParamMaps=paramGrid, evaluator=evaluator)\r\n",
        "cv_model = cv.fit(train_sdf)\r\n",
        "print(cv_model.getEstimatorParamMaps()[np.argmax(cv_model.avgMetrics)])\r\n"
      ],
      "execution_count": 220,
      "outputs": [
        {
          "output_type": "stream",
          "text": [
            "{Param(parent='LinearRegression_d0b4dee1a037', name='regParam', doc='regularization parameter (>= 0).'): 1.0, Param(parent='LinearRegression_d0b4dee1a037', name='elasticNetParam', doc='the ElasticNet mixing parameter, in range [0, 1]. For alpha = 0, the penalty is an L2 penalty. For alpha = 1, it is an L1 penalty.'): 1.0}\n"
          ],
          "name": "stdout"
        }
      ]
    },
    {
      "cell_type": "code",
      "metadata": {
        "colab": {
          "base_uri": "https://localhost:8080/"
        },
        "id": "QFMjptIsqJ-H",
        "outputId": "9d7e37d0-3fe4-4818-d05c-929db4829fec"
      },
      "source": [
        "#best model parameter\r\n",
        "print(cv_model.getEstimatorParamMaps()[np.argmax(cv_model.avgMetrics)])\r\n"
      ],
      "execution_count": 222,
      "outputs": [
        {
          "output_type": "stream",
          "text": [
            "{Param(parent='LinearRegression_d0b4dee1a037', name='regParam', doc='regularization parameter (>= 0).'): 1.0, Param(parent='LinearRegression_d0b4dee1a037', name='elasticNetParam', doc='the ElasticNet mixing parameter, in range [0, 1]. For alpha = 0, the penalty is an L2 penalty. For alpha = 1, it is an L1 penalty.'): 1.0}\n"
          ],
          "name": "stdout"
        }
      ]
    },
    {
      "cell_type": "code",
      "metadata": {
        "id": "hhx5njucYKk2"
      },
      "source": [
        "# Add your code here\n",
        "# Compute predictions using each of the models\n",
        "lr_model_l1 = LinearRegression(featuresCol = 'features', \\\n",
        "                               labelCol='label', \\\n",
        "                               maxIter=10, regParam=0.3). \\\n",
        "                               fit(train_sdf)\n",
        "lr_model_l2 = LinearRegression(featuresCol = 'features',labelCol='label', \\\n",
        "                               maxIter=10, elasticNetParam=0.8).fit(train_sdf)\n",
        "lr_model_l3 = LinearRegression(featuresCol = 'features', labelCol='label', \\\n",
        "                               maxIter=10, regParam=0.3, elasticNetParam=0.8). \\\n",
        "                               fit(train_sdf)\n",
        "lr = LinearRegression(featuresCol = 'features', \\\n",
        "                      labelCol='label', maxIter=10, \\\n",
        "                      regParam=0.0, \\\n",
        "                      elasticNetParam=0.0)\n",
        "\n",
        "\n",
        "l1_predictions = lr_model_l1.transform(test_sdf)\n",
        "l2_predictions = lr_model_l2.transform(test_sdf)\n",
        "elastic_net_predictions = lr_model_l3.transform(test_sdf)\n",
        "\n",
        "# Task: Calculate the root mean squared error (RMSE) on test set for each of your models\n",
        "\n",
        "test_rmse_l1 =  evaluator.evaluate(l1_predictions)\n",
        "test_rmse_l2 = evaluator.evaluate(l2_predictions)\n",
        "test_rmse_elastic = evaluator.evaluate(elastic_net_predictions)\n"
      ],
      "execution_count": 223,
      "outputs": []
    },
    {
      "cell_type": "code",
      "metadata": {
        "id": "q0-fqj8MgY2S",
        "colab": {
          "base_uri": "https://localhost:8080/"
        },
        "outputId": "cd076003-4a4c-4b3e-e657-76ffdfcdbd6d"
      },
      "source": [
        "# Print your results here\n",
        "result = [test_rmse_l1, test_rmse_l2, test_rmse_elastic]\n",
        "print('result_lr_all', result)"
      ],
      "execution_count": 224,
      "outputs": [
        {
          "output_type": "stream",
          "text": [
            "result_lr_all [0.7351706240622485, 0.6936871100897959, 0.8522342935937527]\n"
          ],
          "name": "stdout"
        }
      ]
    },
    {
      "cell_type": "markdown",
      "metadata": {
        "id": "O6ntJ6xFbbmn"
      },
      "source": [
        "### 5.3 Random Forest Regression 10 pts)\n",
        "\n",
        "You need an understanding of random forest and its variations,i.e., boosted trees to succeed as a data scientist. These are ensemble methods that are know for generalization and are considered popular for classification and regression problems. Similar to linear regresssion, create a random forest regressor model. After it, train the model using the data and then evaluate its performance using the test data. Finally, compare performance of random forest model with the linear regression model.\n",
        "\n"
      ]
    },
    {
      "cell_type": "code",
      "metadata": {
        "id": "8pjjP9GWuoml"
      },
      "source": [
        "from pyspark.ml.regression import RandomForestRegressor\n",
        "# Add your code here\n",
        "rf_model = RandomForestRegressor(labelCol=\"label\", featuresCol=\"features\",maxDepth =5).\\\n",
        "  fit(train_sdf)\n"
      ],
      "execution_count": 241,
      "outputs": []
    },
    {
      "cell_type": "code",
      "metadata": {
        "id": "ruaaYA2jBlRK"
      },
      "source": [
        "# Add code here to calculate predictions\n",
        "predictions = rf_model.transform(test_sdf) #Task : Calculate predictions on the test set\n",
        "predictions_train = rf_model.transform(train_sdf)"
      ],
      "execution_count": 242,
      "outputs": []
    },
    {
      "cell_type": "code",
      "metadata": {
        "colab": {
          "base_uri": "https://localhost:8080/",
          "height": 280
        },
        "id": "QyyZfbd6Brqs",
        "outputId": "b918a3ad-5705-4ac6-c040-cabfa3bc263d"
      },
      "source": [
        "from pyspark.ml.evaluation import RegressionEvaluator\n",
        "\n",
        "# Add your code here to instatiate a regressionevaluator \n",
        "evaluator = RegressionEvaluator(labelCol=\"label\",predictionCol=\"features\", metricName=\"rmse\")\n",
        "train_rmse_rf = evaluator.evaluate(predictions_train) #Task: Compute the training RMSE\n",
        "rmse_rf = evaluator.evaluate(predictions)#Task: Compute RMSE using the test set\n"
      ],
      "execution_count": 247,
      "outputs": [
        {
          "output_type": "error",
          "ename": "IllegalArgumentException",
          "evalue": "ignored",
          "traceback": [
            "\u001b[0;31m---------------------------------------------------------------------------\u001b[0m",
            "\u001b[0;31mIllegalArgumentException\u001b[0m                  Traceback (most recent call last)",
            "\u001b[0;32m<ipython-input-247-1f6e12a999d7>\u001b[0m in \u001b[0;36m<module>\u001b[0;34m()\u001b[0m\n\u001b[1;32m      4\u001b[0m \u001b[0mevaluator\u001b[0m \u001b[0;34m=\u001b[0m \u001b[0mRegressionEvaluator\u001b[0m\u001b[0;34m(\u001b[0m\u001b[0mlabelCol\u001b[0m\u001b[0;34m=\u001b[0m\u001b[0;34m\"label\"\u001b[0m\u001b[0;34m,\u001b[0m\u001b[0mpredictionCol\u001b[0m\u001b[0;34m=\u001b[0m\u001b[0;34m\"features\"\u001b[0m\u001b[0;34m,\u001b[0m \u001b[0mmetricName\u001b[0m\u001b[0;34m=\u001b[0m\u001b[0;34m\"rmse\"\u001b[0m\u001b[0;34m)\u001b[0m\u001b[0;34m\u001b[0m\u001b[0;34m\u001b[0m\u001b[0m\n\u001b[1;32m      5\u001b[0m \u001b[0;31m#train_rmse_rf = evaluator.evaluate(predictions_train) #Task: Compute the training RMSE\u001b[0m\u001b[0;34m\u001b[0m\u001b[0;34m\u001b[0m\u001b[0;34m\u001b[0m\u001b[0m\n\u001b[0;32m----> 6\u001b[0;31m \u001b[0mrmse_rf\u001b[0m \u001b[0;34m=\u001b[0m \u001b[0mevaluator\u001b[0m\u001b[0;34m.\u001b[0m\u001b[0mevaluate\u001b[0m\u001b[0;34m(\u001b[0m\u001b[0mpredictions\u001b[0m\u001b[0;34m)\u001b[0m\u001b[0;31m#Task: Compute RMSE using the test set\u001b[0m\u001b[0;34m\u001b[0m\u001b[0;34m\u001b[0m\u001b[0m\n\u001b[0m",
            "\u001b[0;32m/usr/local/lib/python3.7/dist-packages/pyspark/ml/evaluation.py\u001b[0m in \u001b[0;36mevaluate\u001b[0;34m(self, dataset, params)\u001b[0m\n\u001b[1;32m     70\u001b[0m                 \u001b[0;32mreturn\u001b[0m \u001b[0mself\u001b[0m\u001b[0;34m.\u001b[0m\u001b[0mcopy\u001b[0m\u001b[0;34m(\u001b[0m\u001b[0mparams\u001b[0m\u001b[0;34m)\u001b[0m\u001b[0;34m.\u001b[0m\u001b[0m_evaluate\u001b[0m\u001b[0;34m(\u001b[0m\u001b[0mdataset\u001b[0m\u001b[0;34m)\u001b[0m\u001b[0;34m\u001b[0m\u001b[0;34m\u001b[0m\u001b[0m\n\u001b[1;32m     71\u001b[0m             \u001b[0;32melse\u001b[0m\u001b[0;34m:\u001b[0m\u001b[0;34m\u001b[0m\u001b[0;34m\u001b[0m\u001b[0m\n\u001b[0;32m---> 72\u001b[0;31m                 \u001b[0;32mreturn\u001b[0m \u001b[0mself\u001b[0m\u001b[0;34m.\u001b[0m\u001b[0m_evaluate\u001b[0m\u001b[0;34m(\u001b[0m\u001b[0mdataset\u001b[0m\u001b[0;34m)\u001b[0m\u001b[0;34m\u001b[0m\u001b[0;34m\u001b[0m\u001b[0m\n\u001b[0m\u001b[1;32m     73\u001b[0m         \u001b[0;32melse\u001b[0m\u001b[0;34m:\u001b[0m\u001b[0;34m\u001b[0m\u001b[0;34m\u001b[0m\u001b[0m\n\u001b[1;32m     74\u001b[0m             \u001b[0;32mraise\u001b[0m \u001b[0mValueError\u001b[0m\u001b[0;34m(\u001b[0m\u001b[0;34m\"Params must be a param map but got %s.\"\u001b[0m \u001b[0;34m%\u001b[0m \u001b[0mtype\u001b[0m\u001b[0;34m(\u001b[0m\u001b[0mparams\u001b[0m\u001b[0;34m)\u001b[0m\u001b[0;34m)\u001b[0m\u001b[0;34m\u001b[0m\u001b[0;34m\u001b[0m\u001b[0m\n",
            "\u001b[0;32m/usr/local/lib/python3.7/dist-packages/pyspark/ml/evaluation.py\u001b[0m in \u001b[0;36m_evaluate\u001b[0;34m(self, dataset)\u001b[0m\n\u001b[1;32m    100\u001b[0m         \"\"\"\n\u001b[1;32m    101\u001b[0m         \u001b[0mself\u001b[0m\u001b[0;34m.\u001b[0m\u001b[0m_transfer_params_to_java\u001b[0m\u001b[0;34m(\u001b[0m\u001b[0;34m)\u001b[0m\u001b[0;34m\u001b[0m\u001b[0;34m\u001b[0m\u001b[0m\n\u001b[0;32m--> 102\u001b[0;31m         \u001b[0;32mreturn\u001b[0m \u001b[0mself\u001b[0m\u001b[0;34m.\u001b[0m\u001b[0m_java_obj\u001b[0m\u001b[0;34m.\u001b[0m\u001b[0mevaluate\u001b[0m\u001b[0;34m(\u001b[0m\u001b[0mdataset\u001b[0m\u001b[0;34m.\u001b[0m\u001b[0m_jdf\u001b[0m\u001b[0;34m)\u001b[0m\u001b[0;34m\u001b[0m\u001b[0;34m\u001b[0m\u001b[0m\n\u001b[0m\u001b[1;32m    103\u001b[0m \u001b[0;34m\u001b[0m\u001b[0m\n\u001b[1;32m    104\u001b[0m     \u001b[0;32mdef\u001b[0m \u001b[0misLargerBetter\u001b[0m\u001b[0;34m(\u001b[0m\u001b[0mself\u001b[0m\u001b[0;34m)\u001b[0m\u001b[0;34m:\u001b[0m\u001b[0;34m\u001b[0m\u001b[0;34m\u001b[0m\u001b[0m\n",
            "\u001b[0;32m/usr/local/lib/python3.7/dist-packages/py4j/java_gateway.py\u001b[0m in \u001b[0;36m__call__\u001b[0;34m(self, *args)\u001b[0m\n\u001b[1;32m   1303\u001b[0m         \u001b[0manswer\u001b[0m \u001b[0;34m=\u001b[0m \u001b[0mself\u001b[0m\u001b[0;34m.\u001b[0m\u001b[0mgateway_client\u001b[0m\u001b[0;34m.\u001b[0m\u001b[0msend_command\u001b[0m\u001b[0;34m(\u001b[0m\u001b[0mcommand\u001b[0m\u001b[0;34m)\u001b[0m\u001b[0;34m\u001b[0m\u001b[0;34m\u001b[0m\u001b[0m\n\u001b[1;32m   1304\u001b[0m         return_value = get_return_value(\n\u001b[0;32m-> 1305\u001b[0;31m             answer, self.gateway_client, self.target_id, self.name)\n\u001b[0m\u001b[1;32m   1306\u001b[0m \u001b[0;34m\u001b[0m\u001b[0m\n\u001b[1;32m   1307\u001b[0m         \u001b[0;32mfor\u001b[0m \u001b[0mtemp_arg\u001b[0m \u001b[0;32min\u001b[0m \u001b[0mtemp_args\u001b[0m\u001b[0;34m:\u001b[0m\u001b[0;34m\u001b[0m\u001b[0;34m\u001b[0m\u001b[0m\n",
            "\u001b[0;32m/usr/local/lib/python3.7/dist-packages/pyspark/sql/utils.py\u001b[0m in \u001b[0;36mdeco\u001b[0;34m(*a, **kw)\u001b[0m\n\u001b[1;32m    132\u001b[0m                 \u001b[0;31m# Hide where the exception came from that shows a non-Pythonic\u001b[0m\u001b[0;34m\u001b[0m\u001b[0;34m\u001b[0m\u001b[0;34m\u001b[0m\u001b[0m\n\u001b[1;32m    133\u001b[0m                 \u001b[0;31m# JVM exception message.\u001b[0m\u001b[0;34m\u001b[0m\u001b[0;34m\u001b[0m\u001b[0;34m\u001b[0m\u001b[0m\n\u001b[0;32m--> 134\u001b[0;31m                 \u001b[0mraise_from\u001b[0m\u001b[0;34m(\u001b[0m\u001b[0mconverted\u001b[0m\u001b[0;34m)\u001b[0m\u001b[0;34m\u001b[0m\u001b[0;34m\u001b[0m\u001b[0m\n\u001b[0m\u001b[1;32m    135\u001b[0m             \u001b[0;32melse\u001b[0m\u001b[0;34m:\u001b[0m\u001b[0;34m\u001b[0m\u001b[0;34m\u001b[0m\u001b[0m\n\u001b[1;32m    136\u001b[0m                 \u001b[0;32mraise\u001b[0m\u001b[0;34m\u001b[0m\u001b[0;34m\u001b[0m\u001b[0m\n",
            "\u001b[0;32m/usr/local/lib/python3.7/dist-packages/pyspark/sql/utils.py\u001b[0m in \u001b[0;36mraise_from\u001b[0;34m(e)\u001b[0m\n",
            "\u001b[0;31mIllegalArgumentException\u001b[0m: requirement failed: Column features must be of type equal to one of the following types: [double, float] but was actually of type struct<type:tinyint,size:int,indices:array<int>,values:array<double>>."
          ]
        }
      ]
    },
    {
      "cell_type": "code",
      "metadata": {
        "id": "fR09u5GFjvtb"
      },
      "source": [
        "#Print results of predictions here\n",
        "predictions_to_reveal = predictions.toPandas()\n",
        "answer = [train_rmse_rf, predictions_to_reveal['prediction'][0:50], predictions_to_reveal['label'][0:50], rmse_rf]\n",
        "print('check_rf_spark', answer)"
      ],
      "execution_count": null,
      "outputs": []
    },
    {
      "cell_type": "markdown",
      "metadata": {
        "id": "SH9cxYzla-lf"
      },
      "source": [
        "### 5.4 Dimensionality Reduction using Principal Component Analysis (10pt)\n",
        "\n",
        "The focus of this section is to utilize PCA to further reduce the dimensions of data, i.e., a lower dimensional space. After PCA perform linear regression on the new data. You can select a suitable value for the number of dimensions as calculated in previous section.\n",
        "\n",
        "The steps are illustrated below:\n",
        "1.   Initialization of PCA model\n",
        "2.   Fit the PCA model using the training data\n",
        "3.   Extract the PCA feature from the trained PCA model from step 2\n",
        "4.   Train a linear regression model using the retreived PCA features\n",
        "5.   Evaluate the trained model 's performance on the test set \n",
        "\n",
        "This section requires extra effort and therefore has less starter code. Spen time to understand and implement considering yourself a data scientist working on an assigned task.\n",
        "\n",
        "\n",
        "\n",
        "\n"
      ]
    },
    {
      "cell_type": "code",
      "metadata": {
        "id": "KXgSxHvgzJaS"
      },
      "source": [
        "# Add your code for the PCA model and training here\n",
        "\n",
        "pca_of_model = PCA(k=15,inputCol=\"features\",\n",
        "outputCol=\"pca_features\") #!!!!!!!!!!!!!!!!!!!\n",
        "\n",
        "train_rmse_pca_model = pca_of_model.fit(xxxfeatures).transform(xxxfeatures) #!!!!!!!!!!!!!!!!!!!!!!\n",
        "lr_model.fit(features, labels)\n"
      ],
      "execution_count": null,
      "outputs": []
    },
    {
      "cell_type": "code",
      "metadata": {
        "id": "TBnyAXQwl9Nt"
      },
      "source": [
        "# Add your code here\n",
        "predictions = lr_model.predict(train_rmse_pca_model) #Task: Retreive predictions on the test set\n",
        "\n",
        "test_rmse_pca_model = #Task: Retreive RMSE for test data\n"
      ],
      "execution_count": null,
      "outputs": []
    },
    {
      "cell_type": "code",
      "metadata": {
        "id": "nNdWfggtmEmx"
      },
      "source": [
        "# Add your code here\n",
        "predictions_to_grade = predictions.toPandas()\n",
        "answer = [training_rmse_pca, predictions_to_grade['prediction'][0:50], predictions_to_grade['label'][0:50], test_rmse_pca]\n",
        "print('check_pca_spark', answer)"
      ],
      "execution_count": null,
      "outputs": []
    },
    {
      "cell_type": "markdown",
      "metadata": {
        "id": "TyQ6tm6iYg_m"
      },
      "source": [
        "# Submission\n",
        "\n",
        "**Submission on the blackboard**. \n",
        "** PDF submission for the simalarity check and .ipynb for original submission **\n",
        "\n",
        "Go to the \"File\" tab at the top left, and click \"Download .ipynb\". Submit under 'scalableMachinelearning.ipynb'.\n",
        "\n",
        "You must submit your notebook to blackboard for the grading."
      ]
    }
  ]
}